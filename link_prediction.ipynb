{
 "cells": [
  {
   "cell_type": "code",
   "execution_count": 1,
   "id": "6b5b1ae1",
   "metadata": {},
   "outputs": [],
   "source": [
    "import sys\n",
    "# %pip install -q stellargraph[demos]==1.2.1"
   ]
  },
  {
   "cell_type": "code",
   "execution_count": 2,
   "id": "aa9be391",
   "metadata": {},
   "outputs": [
    {
     "name": "stderr",
     "output_type": "stream",
     "text": [
      "2022-02-08 15:34:33.053739: W tensorflow/stream_executor/platform/default/dso_loader.cc:64] Could not load dynamic library 'libcudart.so.11.0'; dlerror: libcudart.so.11.0: cannot open shared object file: No such file or directory\n",
      "2022-02-08 15:34:33.053757: I tensorflow/stream_executor/cuda/cudart_stub.cc:29] Ignore above cudart dlerror if you do not have a GPU set up on your machine.\n",
      "2022-02-08 15:34:34.187811: W tensorflow/stream_executor/platform/default/dso_loader.cc:64] Could not load dynamic library 'libcuda.so.1'; dlerror: libcuda.so.1: cannot open shared object file: No such file or directory\n",
      "2022-02-08 15:34:34.187828: W tensorflow/stream_executor/cuda/cuda_driver.cc:269] failed call to cuInit: UNKNOWN ERROR (303)\n",
      "2022-02-08 15:34:34.187842: I tensorflow/stream_executor/cuda/cuda_diagnostics.cc:156] kernel driver does not appear to be running on this host (oana-Inspiron-5593): /proc/driver/nvidia/version does not exist\n",
      "2022-02-08 15:34:34.188470: I tensorflow/core/platform/cpu_feature_guard.cc:151] This TensorFlow binary is optimized with oneAPI Deep Neural Network Library (oneDNN) to use the following CPU instructions in performance-critical operations:  AVX2 AVX512F FMA\n",
      "To enable them in other operations, rebuild TensorFlow with the appropriate compiler flags.\n"
     ]
    }
   ],
   "source": [
    "import stellargraph as sg\n",
    "from stellargraph.data import EdgeSplitter\n",
    "from stellargraph.mapper import FullBatchLinkGenerator\n",
    "from stellargraph.layer import GCN, LinkEmbedding\n",
    "\n",
    "\n",
    "from tensorflow import keras\n",
    "from sklearn import preprocessing, feature_extraction, model_selection\n",
    "\n",
    "from stellargraph import globalvar\n",
    "from stellargraph import datasets\n",
    "from IPython.display import display, HTML\n",
    "%matplotlib inline"
   ]
  },
  {
   "cell_type": "code",
   "execution_count": 3,
   "id": "eb650dc2",
   "metadata": {
    "scrolled": true
   },
   "outputs": [],
   "source": [
    "# %pip install pyvis\n",
    "from pyvis import network as net\n",
    "import networkx as nx\n",
    "from stellargraph import StellarGraph\n",
    "import pandas as pd"
   ]
  },
  {
   "cell_type": "code",
   "execution_count": 13,
   "id": "ddd01b1d",
   "metadata": {},
   "outputs": [
    {
     "data": {
      "text/html": [
       "<div>\n",
       "<style scoped>\n",
       "    .dataframe tbody tr th:only-of-type {\n",
       "        vertical-align: middle;\n",
       "    }\n",
       "\n",
       "    .dataframe tbody tr th {\n",
       "        vertical-align: top;\n",
       "    }\n",
       "\n",
       "    .dataframe thead th {\n",
       "        text-align: right;\n",
       "    }\n",
       "</style>\n",
       "<table border=\"1\" class=\"dataframe\">\n",
       "  <thead>\n",
       "    <tr style=\"text-align: right;\">\n",
       "      <th></th>\n",
       "      <th>source</th>\n",
       "      <th>target</th>\n",
       "      <th>weight</th>\n",
       "    </tr>\n",
       "  </thead>\n",
       "  <tbody>\n",
       "    <tr>\n",
       "      <th>0</th>\n",
       "      <td>a</td>\n",
       "      <td>b</td>\n",
       "      <td>1.00</td>\n",
       "    </tr>\n",
       "    <tr>\n",
       "      <th>1</th>\n",
       "      <td>b</td>\n",
       "      <td>c</td>\n",
       "      <td>0.20</td>\n",
       "    </tr>\n",
       "    <tr>\n",
       "      <th>2</th>\n",
       "      <td>c</td>\n",
       "      <td>d</td>\n",
       "      <td>3.40</td>\n",
       "    </tr>\n",
       "    <tr>\n",
       "      <th>3</th>\n",
       "      <td>d</td>\n",
       "      <td>a</td>\n",
       "      <td>5.67</td>\n",
       "    </tr>\n",
       "    <tr>\n",
       "      <th>4</th>\n",
       "      <td>a</td>\n",
       "      <td>c</td>\n",
       "      <td>1.00</td>\n",
       "    </tr>\n",
       "    <tr>\n",
       "      <th>5</th>\n",
       "      <td>b</td>\n",
       "      <td>a</td>\n",
       "      <td>1.00</td>\n",
       "    </tr>\n",
       "    <tr>\n",
       "      <th>6</th>\n",
       "      <td>c</td>\n",
       "      <td>b</td>\n",
       "      <td>1.00</td>\n",
       "    </tr>\n",
       "    <tr>\n",
       "      <th>7</th>\n",
       "      <td>d</td>\n",
       "      <td>d</td>\n",
       "      <td>1.00</td>\n",
       "    </tr>\n",
       "    <tr>\n",
       "      <th>8</th>\n",
       "      <td>a</td>\n",
       "      <td>a</td>\n",
       "      <td>1.00</td>\n",
       "    </tr>\n",
       "    <tr>\n",
       "      <th>9</th>\n",
       "      <td>d</td>\n",
       "      <td>c</td>\n",
       "      <td>1.00</td>\n",
       "    </tr>\n",
       "  </tbody>\n",
       "</table>\n",
       "</div>"
      ],
      "text/plain": [
       "  source target  weight\n",
       "0      a      b    1.00\n",
       "1      b      c    0.20\n",
       "2      c      d    3.40\n",
       "3      d      a    5.67\n",
       "4      a      c    1.00\n",
       "5      b      a    1.00\n",
       "6      c      b    1.00\n",
       "7      d      d    1.00\n",
       "8      a      a    1.00\n",
       "9      d      c    1.00"
      ]
     },
     "execution_count": 13,
     "metadata": {},
     "output_type": "execute_result"
    }
   ],
   "source": [
    "square_weight_edges = pd.DataFrame(\n",
    "    {\"source\": [\"a\", \"b\", \"c\", \"d\", \"a\", \"b\", \"c\", \"d\", \"a\", \"d\"], \"target\": [\"b\", \"c\", \"d\", \"a\", \"c\", \"a\", \"b\", \"d\", \"a\", \"c\"], \"weight\": [1.0, 0.2, 3.4, 5.67, 1.0, 1.0, 1.0, 1.0, 1.0,1.0]}\n",
    ")\n",
    "square_weight_edges"
   ]
  },
  {
   "cell_type": "code",
   "execution_count": 14,
   "id": "02fff4f8",
   "metadata": {},
   "outputs": [
    {
     "data": {
      "text/html": [
       "<div>\n",
       "<style scoped>\n",
       "    .dataframe tbody tr th:only-of-type {\n",
       "        vertical-align: middle;\n",
       "    }\n",
       "\n",
       "    .dataframe tbody tr th {\n",
       "        vertical-align: top;\n",
       "    }\n",
       "\n",
       "    .dataframe thead th {\n",
       "        text-align: right;\n",
       "    }\n",
       "</style>\n",
       "<table border=\"1\" class=\"dataframe\">\n",
       "  <thead>\n",
       "    <tr style=\"text-align: right;\">\n",
       "      <th></th>\n",
       "      <th>x</th>\n",
       "      <th>y</th>\n",
       "    </tr>\n",
       "  </thead>\n",
       "  <tbody>\n",
       "    <tr>\n",
       "      <th>a</th>\n",
       "      <td>1</td>\n",
       "      <td>-0.2</td>\n",
       "    </tr>\n",
       "    <tr>\n",
       "      <th>b</th>\n",
       "      <td>2</td>\n",
       "      <td>0.3</td>\n",
       "    </tr>\n",
       "    <tr>\n",
       "      <th>c</th>\n",
       "      <td>3</td>\n",
       "      <td>0.0</td>\n",
       "    </tr>\n",
       "    <tr>\n",
       "      <th>d</th>\n",
       "      <td>4</td>\n",
       "      <td>-0.5</td>\n",
       "    </tr>\n",
       "  </tbody>\n",
       "</table>\n",
       "</div>"
      ],
      "text/plain": [
       "   x    y\n",
       "a  1 -0.2\n",
       "b  2  0.3\n",
       "c  3  0.0\n",
       "d  4 -0.5"
      ]
     },
     "execution_count": 14,
     "metadata": {},
     "output_type": "execute_result"
    }
   ],
   "source": [
    "square_node_data = pd.DataFrame(\n",
    "    {\"x\": [1, 2, 3, 4], \"y\": [-0.2, 0.3, 0.0, -0.5]}, index=[\"a\", \"b\", \"c\", \"d\"]\n",
    ")\n",
    "square_node_data"
   ]
  },
  {
   "cell_type": "code",
   "execution_count": 15,
   "id": "3ecff559",
   "metadata": {},
   "outputs": [
    {
     "name": "stdout",
     "output_type": "stream",
     "text": [
      "StellarGraph: Undirected multigraph\n",
      " Nodes: 4, Edges: 10\n",
      "\n",
      " Node types:\n",
      "  action: [4]\n",
      "    Features: float32 vector, length 2\n",
      "    Edge types: action-line->action\n",
      "\n",
      " Edge types:\n",
      "    action-line->action: [10]\n",
      "        Weights: range=[0.2, 5.67], mean=1.627, std=1.64241\n",
      "        Features: none\n"
     ]
    }
   ],
   "source": [
    "G = StellarGraph(\n",
    "{\"action\": square_node_data}, {\"line\": square_weight_edges}\n",
    ")\n",
    "print(G.info())"
   ]
  },
  {
   "cell_type": "code",
   "execution_count": 16,
   "id": "55395b11",
   "metadata": {},
   "outputs": [
    {
     "data": {
      "text/html": [
       "\n",
       "        <iframe\n",
       "            width=\"500px\"\n",
       "            height=\"500px\"\n",
       "            src=\"nx.html\"\n",
       "            frameborder=\"0\"\n",
       "            allowfullscreen\n",
       "            \n",
       "        ></iframe>\n",
       "        "
      ],
      "text/plain": [
       "<IPython.lib.display.IFrame at 0x7fa51075a5e0>"
      ]
     },
     "execution_count": 16,
     "metadata": {},
     "output_type": "execute_result"
    }
   ],
   "source": [
    "g_1 = nx.Graph()\n",
    "g_1 = nx.from_pandas_edgelist(square_weight_edges, 'source', 'target')\n",
    "\n",
    "nt = net.Network(notebook=True)\n",
    "nt.from_nx(g_1)\n",
    "nt.show('nx.html')"
   ]
  },
  {
   "cell_type": "code",
   "execution_count": 17,
   "id": "95829489",
   "metadata": {},
   "outputs": [
    {
     "name": "stdout",
     "output_type": "stream",
     "text": [
      "** Sampled 1 positive and 1 negative edges. **\n"
     ]
    }
   ],
   "source": [
    "# Define an edge splitter on the original graph G:\n",
    "edge_splitter_test = EdgeSplitter(G)\n",
    "\n",
    "# Randomly sample a fraction p=0.1 of all positive links, and same number of negative links, from G, and obtain the\n",
    "# reduced graph G_test with the sampled links removed:\n",
    "G_test, edge_ids_test, edge_labels_test = edge_splitter_test.train_test_split(\n",
    "    p=0.1, method=\"global\", keep_connected=True\n",
    ")"
   ]
  },
  {
   "cell_type": "code",
   "execution_count": 18,
   "id": "cc28a877",
   "metadata": {},
   "outputs": [
    {
     "name": "stdout",
     "output_type": "stream",
     "text": [
      "[['d' 'd']\n",
      " ['d' 'b']] [1 0]\n"
     ]
    }
   ],
   "source": [
    "print(edge_ids_test, edge_labels_test)"
   ]
  },
  {
   "cell_type": "code",
   "execution_count": 19,
   "id": "4b17398e",
   "metadata": {},
   "outputs": [
    {
     "data": {
      "text/plain": [
       "'StellarGraph: Undirected multigraph\\n Nodes: 4, Edges: 9\\n\\n Node types:\\n  action: [4]\\n    Features: float32 vector, length 2\\n    Edge types: action-line->action\\n\\n Edge types:\\n    action-line->action: [9]\\n        Weights: range=[0.2, 5.67], mean=1.69667, std=1.7263\\n        Features: none'"
      ]
     },
     "execution_count": 19,
     "metadata": {},
     "output_type": "execute_result"
    }
   ],
   "source": [
    "G_test.info()"
   ]
  },
  {
   "cell_type": "code",
   "execution_count": 26,
   "id": "76702d8f",
   "metadata": {},
   "outputs": [
    {
     "data": {
      "text/plain": [
       "[('a', 'b'),\n",
       " ('a', 'b'),\n",
       " ('a', 'd'),\n",
       " ('a', 'c'),\n",
       " ('a', 'a'),\n",
       " ('b', 'c'),\n",
       " ('b', 'c'),\n",
       " ('c', 'd'),\n",
       " ('c', 'd')]"
      ]
     },
     "execution_count": 26,
     "metadata": {},
     "output_type": "execute_result"
    }
   ],
   "source": [
    "G_test.edges()"
   ]
  },
  {
   "cell_type": "code",
   "execution_count": 27,
   "id": "d6952bb7",
   "metadata": {},
   "outputs": [
    {
     "data": {
      "text/plain": [
       "[('a', 'b'),\n",
       " ('b', 'c'),\n",
       " ('c', 'd'),\n",
       " ('d', 'a'),\n",
       " ('a', 'c'),\n",
       " ('b', 'a'),\n",
       " ('c', 'b'),\n",
       " ('d', 'd'),\n",
       " ('a', 'a'),\n",
       " ('d', 'c')]"
      ]
     },
     "execution_count": 27,
     "metadata": {},
     "output_type": "execute_result"
    }
   ],
   "source": [
    "G.edges()"
   ]
  },
  {
   "cell_type": "code",
   "execution_count": 60,
   "id": "765eea14",
   "metadata": {},
   "outputs": [
    {
     "data": {
      "text/html": [
       "The Cora dataset consists of 2708 scientific publications classified into one of seven classes. The citation network consists of 5429 links. Each publication in the dataset is described by a 0/1-valued word vector indicating the absence/presence of the corresponding word from the dictionary. The dictionary consists of 1433 unique words."
      ],
      "text/plain": [
       "<IPython.core.display.HTML object>"
      ]
     },
     "metadata": {},
     "output_type": "display_data"
    },
    {
     "name": "stdout",
     "output_type": "stream",
     "text": [
      "StellarGraph: Undirected multigraph\n",
      " Nodes: 2708, Edges: 5429\n",
      "\n",
      " Node types:\n",
      "  paper: [2708]\n",
      "    Features: float32 vector, length 1440\n",
      "    Edge types: paper-cites->paper\n",
      "\n",
      " Edge types:\n",
      "    paper-cites->paper: [5429]\n",
      "        Weights: all 1 (default)\n",
      "        Features: none\n"
     ]
    }
   ],
   "source": [
    "dataset = datasets.Cora()\n",
    "display(HTML(dataset.description))\n",
    "G, _ = dataset.load(subject_as_feature=True)\n",
    "print(G.info())"
   ]
  },
  {
   "cell_type": "code",
   "execution_count": 73,
   "id": "398473f6",
   "metadata": {},
   "outputs": [
    {
     "name": "stdout",
     "output_type": "stream",
     "text": [
      "** Sampled 542 positive and 542 negative edges. **\n",
      "StellarGraph: Undirected multigraph\n",
      " Nodes: 2708, Edges: 4887\n",
      "\n",
      " Node types:\n",
      "  paper: [2708]\n",
      "    Features: float32 vector, length 1440\n",
      "    Edge types: paper-cites->paper\n",
      "\n",
      " Edge types:\n",
      "    paper-cites->paper: [4887]\n",
      "        Weights: all 1 (default)\n",
      "        Features: none\n",
      "\n",
      "[22563 36140]\n",
      "[ 431 2137]\n"
     ]
    }
   ],
   "source": [
    "# Define an edge splitter on the original graph G:\n",
    "edge_splitter_test = EdgeSplitter(G)\n",
    "\n",
    "# Randomly sample a fraction p=0.1 of all positive links, and same number of negative links, from G, and obtain the\n",
    "# reduced graph G_test with the sampled links removed:\n",
    "G_test, edge_ids_test, edge_labels_test = edge_splitter_test.train_test_split(\n",
    "    p=0.1, method=\"global\", keep_connected=True\n",
    ")\n",
    "\n",
    "print(G_test.info())\n",
    "\n",
    "print(G_test.node_ids_to_ilocs([edge_ids_test[0][0],edge_ids_test[0][1]]))"
   ]
  },
  {
   "cell_type": "code",
   "execution_count": 51,
   "id": "8049c528",
   "metadata": {},
   "outputs": [
    {
     "name": "stdout",
     "output_type": "stream",
     "text": [
      "** Sampled 488 positive and 488 negative edges. **\n",
      "StellarGraph: Undirected multigraph\n",
      " Nodes: 2708, Edges: 4399\n",
      "\n",
      " Node types:\n",
      "  paper: [2708]\n",
      "    Features: float32 vector, length 1440\n",
      "    Edge types: paper-cites->paper\n",
      "\n",
      " Edge types:\n",
      "    paper-cites->paper: [4399]\n",
      "        Weights: all 1 (default)\n",
      "        Features: none\n"
     ]
    }
   ],
   "source": [
    "# Define an edge splitter on the reduced graph G_test:\n",
    "edge_splitter_train = EdgeSplitter(G_test)\n",
    "\n",
    "# Randomly sample a fraction p=0.1 of all positive links, and same number of negative links, from G_test, and obtain the\n",
    "# reduced graph G_train with the sampled links removed:\n",
    "G_train, edge_ids_train, edge_labels_train = edge_splitter_train.train_test_split(\n",
    "    p=0.1, method=\"global\", keep_connected=True\n",
    ")\n",
    "\n",
    "print(G_train.info())\n"
   ]
  },
  {
   "cell_type": "markdown",
   "id": "96cca487",
   "metadata": {},
   "source": [
    "# Common Neighbors"
   ]
  },
  {
   "cell_type": "code",
   "execution_count": 108,
   "id": "619336ee",
   "metadata": {},
   "outputs": [],
   "source": [
    "from sknetwork.data import house\n",
    "from sknetwork.linkpred import *"
   ]
  },
  {
   "cell_type": "code",
   "execution_count": 9,
   "id": "eebbd822",
   "metadata": {},
   "outputs": [],
   "source": [
    "adjacency = house()"
   ]
  },
  {
   "cell_type": "code",
   "execution_count": 21,
   "id": "235670f2",
   "metadata": {},
   "outputs": [
    {
     "name": "stdout",
     "output_type": "stream",
     "text": [
      "  (0, 1)\tTrue\n",
      "  (0, 4)\tTrue\n",
      "  (1, 0)\tTrue\n",
      "  (1, 2)\tTrue\n",
      "  (1, 4)\tTrue\n",
      "  (2, 1)\tTrue\n",
      "  (2, 3)\tTrue\n",
      "  (3, 2)\tTrue\n",
      "  (3, 4)\tTrue\n",
      "  (4, 0)\tTrue\n",
      "  (4, 1)\tTrue\n",
      "  (4, 3)\tTrue\n"
     ]
    }
   ],
   "source": [
    "print(adjacency)"
   ]
  },
  {
   "cell_type": "code",
   "execution_count": 22,
   "id": "6de202ed",
   "metadata": {},
   "outputs": [
    {
     "data": {
      "text/plain": [
       "array([1, 3, 0, 2, 1])"
      ]
     },
     "execution_count": 22,
     "metadata": {},
     "output_type": "execute_result"
    }
   ],
   "source": [
    "cn = CommonNeighbors()\n",
    "similarities = cn.fit_predict(adjacency, 1)\n",
    "similarities"
   ]
  },
  {
   "cell_type": "code",
   "execution_count": 23,
   "id": "adc14490",
   "metadata": {},
   "outputs": [
    {
     "data": {
      "text/plain": [
       "array([[2, 1, 1, 1, 1],\n",
       "       [1, 3, 0, 2, 1],\n",
       "       [1, 0, 2, 0, 2],\n",
       "       [1, 2, 0, 2, 0],\n",
       "       [1, 1, 2, 0, 3]])"
      ]
     },
     "execution_count": 23,
     "metadata": {},
     "output_type": "execute_result"
    }
   ],
   "source": [
    "cn.predict([0, 1, 2, 3 ,4])"
   ]
  },
  {
   "cell_type": "code",
   "execution_count": 32,
   "id": "98dade25",
   "metadata": {},
   "outputs": [
    {
     "data": {
      "text/plain": [
       "<1x2708 sparse matrix of type '<class 'numpy.float32'>'\n",
       "\twith 5 stored elements in Compressed Sparse Row format>"
      ]
     },
     "execution_count": 32,
     "metadata": {},
     "output_type": "execute_result"
    }
   ],
   "source": [
    "adjacency_cora = G_test.to_adjacency_matrix()\n",
    "adjacency_cora[0]"
   ]
  },
  {
   "cell_type": "code",
   "execution_count": 131,
   "id": "8a1a20b0",
   "metadata": {},
   "outputs": [
    {
     "data": {
      "text/plain": [
       "array([[1., 0., 0., ..., 0., 0., 0.],\n",
       "       [0., 1., 0., ..., 0., 0., 0.],\n",
       "       [0., 0., 1., ..., 0., 0., 0.],\n",
       "       ...,\n",
       "       [0., 0., 0., ..., 1., 0., 0.],\n",
       "       [0., 0., 0., ..., 0., 1., 0.],\n",
       "       [0., 0., 0., ..., 0., 0., 1.]])"
      ]
     },
     "execution_count": 131,
     "metadata": {},
     "output_type": "execute_result"
    }
   ],
   "source": [
    "# cn = CommonNeighbors()\n",
    "# cn = JaccardIndex()\n",
    "# cn = SaltonIndex() #higher than jaccard\n",
    "# cn = SorensenIndex()\n",
    "cn = HubPromotedIndex() #high on cora test\n",
    "# cn = HubDepressedIndex()\n",
    "# cn = AdamicAdar() #very high, some error \n",
    "# cn = ResourceAllocation()\n",
    "similarities = cn.fit_predict(adjacency_cora, 0)\n",
    "similarities = cn.predict(list(range(adjacency_cora.shape[0])))\n",
    "similarities"
   ]
  },
  {
   "cell_type": "code",
   "execution_count": 132,
   "id": "a3a4acf7",
   "metadata": {},
   "outputs": [
    {
     "name": "stdout",
     "output_type": "stream",
     "text": [
      "1.0\n",
      "[(0.0, 7250644), (0.5, 27154), (0.3333333432674408, 19098), (1.0, 14068), (0.25, 10854), (0.20000000298023224, 4704), (0.1666666716337204, 1708), (0.6666666865348816, 1616), (0.4000000059604645, 668), (0.1428571492433548, 538)]\n"
     ]
    }
   ],
   "source": [
    "from collections import Counter\n",
    "maximum = max(max(x) for x in similarities)\n",
    "one_list = [y for x in similarities for y in x]\n",
    "print(maximum) #Jaccard between 0 and 1\n",
    "\n",
    "print(Counter(one_list).most_common()[:10])\n",
    "# threshold = 3 # if 8 common neighbours or more ->connected\n",
    "threshold = 0.5"
   ]
  },
  {
   "cell_type": "code",
   "execution_count": 133,
   "id": "9571dd2e",
   "metadata": {},
   "outputs": [
    {
     "name": "stdout",
     "output_type": "stream",
     "text": [
      "0.6291512915129152\n"
     ]
    }
   ],
   "source": [
    "from sklearn.metrics import accuracy_score\n",
    "\n",
    "nodes_test = [list(G_test.node_ids_to_ilocs([edge_ids_test[i][0],edge_ids_test[i][1]])) for i in range(len(edge_ids_test))]\n",
    "# print(nodes_test)\n",
    "\n",
    "predicted = []\n",
    "for (node1, node2), label in zip(nodes_test, edge_labels_test):\n",
    "#     print(node1, node2, label)\n",
    "    common_neighbour_similarity = cn.predict((node1, node2))\n",
    "    result = 0 if common_neighbour_similarity < threshold else 1\n",
    "    predicted.append(result)\n",
    "#     print(common_neighbour_similarity)\n",
    "\n",
    "accuracy = accuracy_score(edge_labels_test, predicted)\n",
    "print(accuracy)"
   ]
  }
 ],
 "metadata": {
  "kernelspec": {
   "display_name": "Python 3",
   "language": "python",
   "name": "python3"
  },
  "language_info": {
   "codemirror_mode": {
    "name": "ipython",
    "version": 3
   },
   "file_extension": ".py",
   "mimetype": "text/x-python",
   "name": "python",
   "nbconvert_exporter": "python",
   "pygments_lexer": "ipython3",
   "version": "3.8.6"
  }
 },
 "nbformat": 4,
 "nbformat_minor": 5
}
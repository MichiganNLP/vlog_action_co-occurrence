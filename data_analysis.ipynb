{
 "cells": [
  {
   "cell_type": "markdown",
   "source": [
    "### Imports and util functions"
   ],
   "metadata": {
    "collapsed": false,
    "pycharm": {
     "name": "#%% md\n"
    }
   }
  },
  {
   "cell_type": "code",
   "execution_count": null,
   "outputs": [],
   "source": [
    "# https://seaborn.pydata.org/examples/structured_heatmap.html\n",
    "# # try: https://charticulator.com/docs/getting-started.html\n",
    "# https://www.google.com/search?sxsrf=APq-WBs_fPnKVr4cXjkuib95wDRQSFHl1A:1650583694317&q=heatmap+cluster+lines&tbm=isch&chips=q:heatmap+cluster+lines,online_chips:seaborn+clustermap:znboBaCIRaI%3D&usg=AI4_-kSuFJizVNbAbFIZzug6sEsgaJJHRw&sa=X&ved=2ahUKEwjLh5a2p6b3AhXrAp0JHQRRDYkQgIoDKAF6BAgUEAw&biw=953&bih=973&dpr=1#imgrc=P1hjvfPZPgOQPM&imgdii=QSMll_SYdSnkBM"
   ],
   "metadata": {
    "collapsed": false,
    "pycharm": {
     "name": "#%%\n"
    }
   }
  },
  {
   "cell_type": "code",
   "execution_count": null,
   "outputs": [],
   "source": [
    "from matplotlib import pyplot as plt\n",
    "import pandas as pd\n",
    "import seaborn as sns\n",
    "import json\n",
    "from collections import Counter, defaultdict\n",
    "import ast\n",
    "import numpy as np\n",
    "from sklearn.cluster import KMeans\n",
    "from scipy.spatial.distance import cdist\n",
    "from sentence_transformers import SentenceTransformer\n",
    "from rich.progress import track\n",
    "import collections\n",
    "from operator import itemgetter\n",
    "from tqdm import tqdm\n",
    "import math\n",
    "import ast"
   ],
   "metadata": {
    "collapsed": false,
    "pycharm": {
     "name": "#%%\n"
    }
   }
  },
  {
   "cell_type": "code",
   "execution_count": null,
   "outputs": [],
   "source": [
    "from scipy.spatial.distance import pdist, squareform\n",
    "from fastcluster import linkage\n",
    "\n",
    "\n",
    "def seriation(Z,N,cur_index):\n",
    "    '''\n",
    "        input:\n",
    "            - Z is a hierarchical tree (dendrogram)\n",
    "            - N is the number of points given to the clustering process\n",
    "            - cur_index is the position in the tree for the recursive traversal\n",
    "        output:\n",
    "            - order implied by the hierarchical tree Z\n",
    "            \n",
    "        seriation computes the order implied by a hierarchical tree (dendrogram)\n",
    "    '''\n",
    "    if cur_index < N:\n",
    "        return [cur_index]\n",
    "    else:\n",
    "        left = int(Z[cur_index-N,0])\n",
    "        right = int(Z[cur_index-N,1])\n",
    "        return (seriation(Z,N,left) + seriation(Z,N,right))\n",
    "    \n",
    "def compute_serial_matrix(dist_mat,method=\"ward\"):\n",
    "    '''\n",
    "        input:\n",
    "            - dist_mat is a distance matrix\n",
    "            - method = [\"ward\",\"single\",\"average\",\"complete\"]\n",
    "        output:\n",
    "            - seriated_dist is the input dist_mat,\n",
    "              but with re-ordered rows and columns\n",
    "              according to the seriation, i.e. the\n",
    "              order implied by the hierarchical tree\n",
    "            - res_order is the order implied by\n",
    "              the hierarhical tree\n",
    "            - res_linkage is the hierarhical tree (dendrogram)\n",
    "        \n",
    "        compute_serial_matrix transforms a distance matrix into \n",
    "        a sorted distance matrix according to the order implied \n",
    "        by the hierarchical tree (dendrogram)\n",
    "    '''\n",
    "    N = len(dist_mat)\n",
    "    flat_dist_mat = squareform(dist_mat)\n",
    "    res_linkage = linkage(flat_dist_mat, method=method,preserve_input=True)\n",
    "    res_order = seriation(res_linkage, N, N + N-2)\n",
    "    seriated_dist = np.zeros((N,N))\n",
    "    a,b = np.triu_indices(N,k=1)\n",
    "    seriated_dist[a,b] = dist_mat[ [res_order[i] for i in a], [res_order[j] for j in b]]\n",
    "    seriated_dist[b,a] = seriated_dist[a,b]\n",
    "    \n",
    "    return seriated_dist, res_order, res_linkage\n"
   ],
   "metadata": {
    "collapsed": false,
    "pycharm": {
     "name": "#%%\n"
    }
   }
  },
  {
   "cell_type": "code",
   "execution_count": null,
   "outputs": [],
   "source": [
    "with open('data/dict_video_action_pairs_filtered_by_link.json') as json_file:\n",
    "        dict_video_action_pairs_filtered = json.load(json_file)"
   ],
   "metadata": {
    "collapsed": false,
    "pycharm": {
     "name": "#%%\n"
    }
   }
  },
  {
   "cell_type": "code",
   "execution_count": null,
   "outputs": [],
   "source": [
    "def get_all_action_pairs(dict_video_action_pairs_filtered):\n",
    "    all_action_pairs = [str(sorted((action_1, action_2)))\n",
    "                        for video in dict_video_action_pairs_filtered\n",
    "                        for (action_1, transcript_a1, clip_a1), (action_2, transcript_a2, clip_a2)\n",
    "                        in dict_video_action_pairs_filtered[video]]\n",
    "\n",
    "    all_action_pairs = [tuple(ast.literal_eval(action_pair)) for action_pair in all_action_pairs]\n",
    "    return all_action_pairs\n",
    "\n",
    "def get_all_actions(all_action_pairs):\n",
    "    all_actions = []\n",
    "    for [a1, a2] in all_action_pairs:\n",
    "        all_actions.append(a1)\n",
    "        all_actions.append(a2)\n",
    "    return all_actions\n",
    "\n",
    "all_action_pairs = get_all_action_pairs(dict_video_action_pairs_filtered)\n",
    "all_actions = get_all_actions(all_action_pairs)\n",
    "all_verbs = [action.split()[0] for action in all_actions]\n",
    "all_verb_pairs = [(action_pair[0].split()[0], action_pair[1].split()[0]) for action_pair in all_action_pairs]"
   ],
   "metadata": {
    "collapsed": false,
    "pycharm": {
     "name": "#%%\n"
    }
   }
  },
  {
   "cell_type": "markdown",
   "source": [
    "## Error Analysis"
   ],
   "metadata": {
    "collapsed": false,
    "pycharm": {
     "name": "#%% md\n"
    }
   }
  },
  {
   "cell_type": "code",
   "execution_count": null,
   "outputs": [],
   "source": [
    "with open('data/results/labels_test.npy', 'rb') as f:\n",
    "    labels_test = np.load(f, allow_pickle=True)\n",
    "with open('data/results/nodes_test.npy', 'rb') as f:\n",
    "    nodes_test = np.load(f, allow_pickle=True)\n",
    "# with open('data/results/predicted_SVM_all_txt_vis_embeddings_all_heuristics.npy', 'rb') as f:\n",
    "with open('data/results/predicted_SVM_stsbrt.npy', 'rb') as f:\n",
    "    predicted_labels = np.load(f)"
   ],
   "metadata": {
    "collapsed": false,
    "pycharm": {
     "name": "#%%\n"
    }
   }
  },
  {
   "cell_type": "code",
   "execution_count": null,
   "outputs": [],
   "source": [
    "nodes_name_pairs = [(nodes_test[i][0], nodes_test[i][1]) for i in range(len(nodes_test))]\n",
    "\n",
    "dict_results_correct = defaultdict()\n",
    "dict_results_errors = {\"FP\": {}, \"FN\": {}}\n",
    "for i, (predicted, gt) in enumerate(zip(predicted_labels, labels_test)):\n",
    "    if predicted == gt:\n",
    "        dict_results_correct[nodes_name_pairs[i]] = all_actions.count(nodes_name_pairs[i][0]) + all_actions.count(\n",
    "            nodes_name_pairs[i][1])\n",
    "    elif predicted == 0 and gt == 1:\n",
    "        dict_results_errors[\"FN\"][nodes_name_pairs[i]] = all_actions.count(\n",
    "            nodes_name_pairs[i][0]) + all_actions.count(nodes_name_pairs[i][1])\n",
    "    else:\n",
    "        dict_results_errors[\"FP\"][nodes_name_pairs[i]] = all_actions.count(\n",
    "            nodes_name_pairs[i][0]) + all_actions.count(nodes_name_pairs[i][1])\n",
    "\n",
    "print(\"#FN\", str(len(dict_results_errors[\"FN\"])))\n",
    "# print(dict(sorted(dict_results_errors[\"FN\"].items()), key=lambda item: item[0]))\n",
    "print(\"#FP\", str(len(dict_results_errors[\"FP\"])))\n",
    "# print(dict(sorted(dict_results_errors[\"FP\"].items()), key=lambda item: item[0]))\n",
    "print(\"#TP + TN\", len(dict_results_correct))"
   ],
   "metadata": {
    "collapsed": false,
    "pycharm": {
     "name": "#%%\n"
    }
   }
  },
  {
   "cell_type": "code",
   "execution_count": null,
   "outputs": [],
   "source": [
    "dict_freq = {}\n",
    "dict_actions = {}\n",
    "dict_verbs = {}\n",
    "dict_actions_pair = {}\n",
    "list_results = []\n",
    "\n",
    "for action_pair, gt, predicted in zip(nodes_test, labels_test, predicted_labels):\n",
    "    [action1, action2] = list(action_pair)\n",
    "    verb1 = action1.split()[0]\n",
    "    verb2 = action2.split()[0]\n",
    "    pair_freq = all_action_pairs.count((action1, action2))\n",
    "#     pair_freq = all_actions.count(action1) + all_actions.count(action2)\n",
    "    if pair_freq not in dict_freq:\n",
    "        dict_freq[pair_freq] = []\n",
    "    if str([action1, action2]) not in dict_actions_pair:\n",
    "        dict_actions_pair[str([action1, action2])] = []\n",
    "    if action1 not in dict_actions:\n",
    "        dict_actions[action1] = []\n",
    "    if action2 not in dict_actions:\n",
    "        dict_actions[action2] = []\n",
    "    if verb1 not in dict_verbs:\n",
    "        dict_verbs[verb1] = []\n",
    "    if verb2 not in dict_verbs:\n",
    "        dict_verbs[verb2] = []\n",
    "        \n",
    "    if gt == predicted:\n",
    "        dict_freq[pair_freq].append(1)\n",
    "        dict_actions_pair[str([action1, action2])].append(1)\n",
    "        dict_actions[action1].append(1)\n",
    "        dict_actions[action2].append(1)\n",
    "        dict_verbs[verb1].append(1)\n",
    "        dict_verbs[verb2].append(1)\n",
    "    else:\n",
    "        dict_freq[pair_freq].append(0)\n",
    "        dict_actions_pair[str([action1, action2])].append(0)\n",
    "        dict_actions[action1].append(0)\n",
    "        dict_actions[action2].append(0)\n",
    "        dict_verbs[verb1].append(0)\n",
    "        dict_verbs[verb2].append(0)\n",
    "#     if pair_freq == 12 or pair_freq == 21:\n",
    "#         print([action1, action2], pair_freq, gt, predicted)\n",
    "#     print(action1, action2, pair_freq, gt, predicted)\n",
    "\n",
    "for freq in dict_freq:\n",
    "    dict_freq[freq] = round(sum(dict_freq[freq]) / len(dict_freq[freq]), 2)   \n",
    "for action_pair in dict_actions_pair:\n",
    "    dict_actions_pair[action_pair] = round(sum(dict_actions_pair[action_pair]) / len(dict_actions_pair[action_pair]), 2)\n",
    "for action in dict_actions:\n",
    "    dict_actions[action] = round(sum(dict_actions[action]) / len(dict_actions[action]), 2)\n",
    "for verb in dict_verbs:\n",
    "    dict_verbs[verb] = round(sum(dict_verbs[verb]) / len(dict_verbs[verb]), 2)\n",
    "\n",
    "dict_freq = collections.OrderedDict(sorted(dict_freq.items()))\n",
    "dict_actions_pair = collections.OrderedDict(sorted(dict_actions_pair.items()))\n",
    "\n",
    "# my_rho = np.corrcoef(list(dict_freq.keys()), list(dict_freq.values()))\n",
    "# my_rho\n",
    "\n",
    "# dict_actions = collections.OrderedDict(sorted(dict_actions.items(), key=itemgetter(1)))\n",
    "# dict_verbs = collections.OrderedDict(sorted(dict_verbs.items(), key=itemgetter(1)))\n",
    "\n",
    "# # dict_actions\n",
    "# dict_verbs\n",
    "\n",
    "accuracy, action_count = [], [] \n",
    "# for action, avg_acc in dict_actions.items():\n",
    "# for action, avg_acc in dict_verbs.items():\n",
    "for action_pair, avg_acc in dict_actions_pair.items():\n",
    "#     count = all_actions.count(action)\n",
    "#     count = all_verbs.count(action)\n",
    "    [action1, action2] = ast.literal_eval(action_pair)\n",
    "    count = all_action_pairs.count((action1, action2))\n",
    "#     print(action_pair, avg_acc, count)\n",
    "    accuracy.append(avg_acc)\n",
    "    action_count.append(count)\n",
    "    \n",
    "my_rho = np.corrcoef(accuracy, action_count)\n",
    "my_rho\n",
    "\n",
    "\n",
    "# sns.set_theme(style=\"darkgrid\")\n",
    "# plt.tight_layout()\n",
    "# ax = sns.barplot(x=keys, y=vals, color='purple')\n",
    "# for bars in ax.containers:\n",
    "#     ax.bar_label(bars)\n",
    "# ax.set_xlabel(\"Action Pair Frequency\", fontsize = 10)\n",
    "# ax.set_ylabel(\"Average Accuracy\", fontsize = 10)\n",
    "# plt.savefig('data/plots/results_action_pair_freq.pdf', bbox_inches='tight')"
   ],
   "metadata": {
    "collapsed": false,
    "pycharm": {
     "name": "#%%\n"
    }
   }
  },
  {
   "cell_type": "markdown",
   "source": [
    "## Data analysis (distribution)"
   ],
   "metadata": {
    "collapsed": false,
    "pycharm": {
     "name": "#%% md\n"
    }
   }
  },
  {
   "cell_type": "code",
   "execution_count": null,
   "outputs": [],
   "source": [
    "# sns.set_theme(style=\"darkgrid\")\n",
    "list_counts=list(Counter(all_actions).values())\n",
    "g1 = sns.displot(list_counts, bins=100, kde=True)\n",
    "plt.tight_layout()\n",
    "plt.savefig('data/plots/action_distrib.pdf', bbox_inches='tight')"
   ],
   "metadata": {
    "collapsed": false,
    "pycharm": {
     "name": "#%%\n"
    }
   }
  },
  {
   "cell_type": "code",
   "execution_count": null,
   "outputs": [],
   "source": [
    "for (action_pair, freq) in Counter(all_action_pairs).most_common()[:20]:\n",
    "# for (action_pair, freq) in Counter(all_action_pairs).most_common()[-20:]:\n",
    "    print(f\"{action_pair[0]}, {action_pair[1]} & {freq} \\\\\\ \")"
   ],
   "metadata": {
    "collapsed": false,
    "pycharm": {
     "name": "#%%\n"
    }
   }
  },
  {
   "cell_type": "markdown",
   "source": [
    "## Action co-occurrence"
   ],
   "metadata": {
    "collapsed": false,
    "pycharm": {
     "name": "#%% md\n"
    }
   }
  },
  {
   "cell_type": "code",
   "execution_count": null,
   "outputs": [],
   "source": [
    "def calculate_PMI(all_actions, all_action_pairs, file_out):\n",
    "    N = len(all_actions)\n",
    "    M = len(all_action_pairs)\n",
    "    threshold = 10\n",
    "    pmi_action_pairs = defaultdict()\n",
    "    for action_pair in track(set(all_action_pairs), description=\"Computing PMI...\"):\n",
    "        (a1, a2) = action_pair\n",
    "        if all_actions.count(a1) < threshold or all_actions.count(a2) < threshold:\n",
    "            pmi_action_pairs[str((a1, a2))] = 0\n",
    "        else:\n",
    "            # weighting PMI: • Raise the context probabilities to alpha = 0.75\n",
    "            # http://www.cs.umd.edu/class/fall2018/cmsc470/slides/slides_02.pdf\n",
    "            # alpha = 0.75\n",
    "            norm_count_a1_a2 = all_action_pairs.count((a1, a2)) / M\n",
    "            norm_count_a1 = all_actions.count(a1) / N\n",
    "            norm_count_a2 = all_actions.count(a2) / N\n",
    "            # norm_count_a1 = all_actions.count(a1) ** alpha / N\n",
    "            # norm_count_a2 = all_actions.count(a2) ** alpha / N\n",
    "            PMI_a1_a2 = max(0, int(math.log2(norm_count_a1_a2 / (norm_count_a1 * norm_count_a2))))\n",
    "            pmi_action_pairs[str((a1, a2))] = PMI_a1_a2\n",
    "\n",
    "    with open(file_out, 'w+') as fp:\n",
    "        json.dump(pmi_action_pairs, fp)"
   ],
   "metadata": {
    "collapsed": false,
    "pycharm": {
     "name": "#%%\n"
    }
   }
  },
  {
   "cell_type": "code",
   "execution_count": null,
   "outputs": [],
   "source": [
    "calculate_PMI(all_actions, all_action_pairs, file_out='data/dict_pmi_action_pairs.json')\n",
    "calculate_PMI(all_verbs, all_verb_pairs, file_out='data/dict_pmi_verb_pairs.json')"
   ],
   "metadata": {
    "collapsed": false,
    "pycharm": {
     "name": "#%%\n"
    }
   }
  },
  {
   "cell_type": "code",
   "execution_count": null,
   "outputs": [],
   "source": [
    "with open('data/dict_pmi_action_pairs.json') as json_file:\n",
    "    dict_pmi_action_pairs = json.load(json_file)"
   ],
   "metadata": {
    "collapsed": false,
    "pycharm": {
     "name": "#%%\n"
    }
   }
  },
  {
   "cell_type": "code",
   "execution_count": null,
   "outputs": [],
   "source": [
    "top_20 = sorted([(k, v) for k, v in dict_pmi_action_pairs.items() if v != \"None\"], key=lambda x: x[1])[-20:]\n",
    "last_20 = sorted([(k, v) for k, v in dict_pmi_action_pairs.items() if v != \"None\"], key=lambda x: x[1])[:20]\n",
    "print(top_20)\n",
    "print(last_20)"
   ],
   "metadata": {
    "collapsed": false,
    "pycharm": {
     "name": "#%%\n"
    }
   }
  },
  {
   "cell_type": "code",
   "execution_count": null,
   "outputs": [],
   "source": [
    "# Co-occurrence of most common actions\n",
    "nb_actions = 20\n",
    "most_common_actions = [action for (action, count) in Counter(all_actions).most_common(nb_actions)]\n",
    "all_action_pairs_most_common = [[a1, a2] for [a1, a2] in all_action_pairs if a1 in most_common_actions and a2 in most_common_actions]\n",
    "all_action_pairs_most_common += [[a2, a1] for [a1, a2] in all_action_pairs if a1 in most_common_actions and a2 in most_common_actions]\n",
    "\n",
    "for a in most_common_actions:\n",
    "    if [a, a] not in all_action_pairs_most_common:\n",
    "        all_action_pairs_most_common += [[a, a]]\n",
    "    \n",
    "all_action_pairs_most_common"
   ],
   "metadata": {
    "collapsed": false,
    "pycharm": {
     "name": "#%%\n"
    }
   }
  },
  {
   "cell_type": "code",
   "execution_count": null,
   "outputs": [],
   "source": [
    "df_actions = pd.DataFrame(all_action_pairs_most_common, columns=['action1', 'action2'])\n",
    "df_actions"
   ],
   "metadata": {
    "collapsed": false,
    "pycharm": {
     "name": "#%%\n"
    }
   }
  },
  {
   "cell_type": "code",
   "execution_count": null,
   "outputs": [],
   "source": [
    "#convert to co-occurrance matrix\n",
    "co_mat_actions = pd.crosstab(df_actions.action1, df_actions.action2)\n",
    "co_mat_actions"
   ],
   "metadata": {
    "collapsed": false,
    "pycharm": {
     "name": "#%%\n"
    }
   }
  },
  {
   "cell_type": "code",
   "execution_count": null,
   "outputs": [],
   "source": [
    "co_mat_actions_norm = co_mat_actions.copy()\n",
    "for action1 in tqdm(most_common_actions):\n",
    "    for action2 in most_common_actions:\n",
    "        action_pair = str(tuple(sorted((action1, action2))))\n",
    "        if action_pair in dict_pmi_action_pairs:\n",
    "            co_mat_actions_norm[action1][action2] = dict_pmi_action_pairs[action_pair]\n",
    "        else:\n",
    "#             co_mat_actions_norm[action1][action2] = -100\n",
    "            co_mat_actions_norm[action1][action2] = 0\n",
    "        if action1 == action2:\n",
    "            co_mat_actions_norm[action1][action2] = 0\n",
    "co_mat_actions_norm"
   ],
   "metadata": {
    "collapsed": false,
    "pycharm": {
     "name": "#%%\n"
    }
   }
  },
  {
   "cell_type": "code",
   "execution_count": null,
   "outputs": [],
   "source": [
    "array_co_mat_actions_norm = np.array(co_mat_actions_norm)\n",
    "array_co_mat_actions_norm.shape"
   ],
   "metadata": {
    "collapsed": false,
    "pycharm": {
     "name": "#%%\n"
    }
   }
  },
  {
   "cell_type": "code",
   "execution_count": null,
   "outputs": [],
   "source": [
    "dist_mat = array_co_mat_actions_norm\n",
    "plt.pcolormesh(dist_mat)\n",
    "plt.colorbar()\n",
    "plt.show()"
   ],
   "metadata": {
    "collapsed": false,
    "pycharm": {
     "name": "#%%\n"
    }
   }
  },
  {
   "cell_type": "code",
   "execution_count": null,
   "outputs": [],
   "source": [
    "methods = [\"ward\",\"single\",\"average\",\"complete\"]\n",
    "for method in methods:\n",
    "    print(\"Method:\\t\",method)\n",
    "    \n",
    "    ordered_dist_mat, res_order, res_linkage = compute_serial_matrix(dist_mat, method)\n",
    "    \n",
    "    plt.pcolormesh(ordered_dist_mat)\n",
    "    plt.colorbar()\n",
    "    plt.show()"
   ],
   "metadata": {
    "collapsed": false,
    "pycharm": {
     "name": "#%%\n"
    }
   }
  },
  {
   "cell_type": "code",
   "execution_count": null,
   "outputs": [],
   "source": [
    "ordered_dist_mat, res_order, res_linkage = compute_serial_matrix(dist_mat, method='ward')\n",
    "most_common_actions_mat = list(co_mat_actions_norm.columns)\n",
    "labels = [most_common_actions_mat[r] for r in res_order]\n",
    "# labels = most_common_actions\n",
    "ax = plt.gca()\n",
    "# ax.set_xticks(np.linspace(1,len(labels),num=len(labels)))\n",
    "# ax.set_yticks(np.linspace(1,len(labels), num=len(labels)))\n",
    "plt.pcolormesh(ordered_dist_mat)\n",
    "plt.colorbar()\n",
    "plt.show()\n",
    "\n",
    "# plt.gcf().savefig(\"abc.svg\", bbox_inches='tight')"
   ],
   "metadata": {
    "collapsed": false,
    "pycharm": {
     "name": "#%%\n"
    }
   }
  },
  {
   "cell_type": "code",
   "execution_count": null,
   "outputs": [],
   "source": [
    "df = pd.DataFrame(ordered_dist_mat, columns = labels, index = labels)\n",
    "df"
   ],
   "metadata": {
    "collapsed": false,
    "pycharm": {
     "name": "#%%\n"
    }
   }
  },
  {
   "cell_type": "code",
   "execution_count": null,
   "outputs": [],
   "source": [
    "df_good = df.copy()\n",
    "for action1 in tqdm(most_common_actions):\n",
    "    for action2 in most_common_actions:\n",
    "        action_pair = str(tuple(sorted((action1, action2))))\n",
    "        if action1 == action2 and str(action_pair) in dict_pmi_action_pairs:\n",
    "            df_good[action1][action2] = dict_pmi_action_pairs[str(action_pair)]\n",
    "df_good"
   ],
   "metadata": {
    "collapsed": false,
    "pycharm": {
     "name": "#%%\n"
    }
   }
  },
  {
   "cell_type": "code",
   "execution_count": null,
   "outputs": [],
   "source": [
    "# plot heat map of verb co-occurrance matrix\n",
    "sns.set(font_scale = 3)\n",
    "plt.figure(figsize=(17, 17))\n",
    "\n",
    "# sns.set(font_scale = 1.5)\n",
    "# plt.figure(figsize=(21, 21))\n",
    "\n",
    "# plt.figure(figsize=(45, 45))\n",
    "# mask = np.zeros_like(df_good)\n",
    "# mask[np.triu_indices_from(mask)] = True\n",
    "#TODO: TRY CLUSTERMAP\n",
    "\n",
    "## we do this because some actions are too long and mess the figure\n",
    "df_new = df_good.rename(columns={'add teaspoon of maple syrup': 'add maple syrup'}, index={'add teaspoon of maple syrup': 'add maple syrup'})\n",
    "labels = list(map(lambda x: x.replace('add teaspoon of maple syrup', 'add maple syrup'), labels))\n",
    "\n",
    "ax = sns.heatmap(df_new, square=True, cmap='BuPu', vmin=0, linewidths=.2, linecolor='white', cbar_kws={\"shrink\": .50}, fmt='.2f',\n",
    "            xticklabels=labels, yticklabels=labels) #df mask=mask \n",
    "\n",
    "ax.axes.xaxis.set_ticks_position(\"top\")\n",
    "ax.set_xticklabels(ax.get_xticklabels(), rotation=90)\n",
    "ax.tick_params(left=False, top=False)\n",
    "\n",
    "# ax.invert_yaxis()\n",
    "# plt.savefig('data/plots/co-occurrence_actions_20.pdf', bbox_inches='tight')\n",
    "# plt.savefig('data/plots/co-occurrence_actions_50.pdf', bbox_inches='tight')"
   ],
   "metadata": {
    "collapsed": false,
    "pycharm": {
     "name": "#%%\n"
    }
   }
  },
  {
   "cell_type": "markdown",
   "source": [
    "## Co-occurence only verbs"
   ],
   "metadata": {
    "collapsed": false,
    "pycharm": {
     "name": "#%% md\n"
    }
   }
  },
  {
   "cell_type": "code",
   "execution_count": null,
   "outputs": [],
   "source": [
    "all_verbs = [action.split()[0] for action in all_actions]"
   ],
   "metadata": {
    "collapsed": false,
    "pycharm": {
     "name": "#%%\n"
    }
   }
  },
  {
   "cell_type": "code",
   "execution_count": null,
   "outputs": [],
   "source": [
    "all_verb_pairs = [(action_pair[0].split()[0], action_pair[1].split()[0]) for action_pair in all_action_pairs]"
   ],
   "metadata": {
    "collapsed": false,
    "pycharm": {
     "name": "#%%\n"
    }
   }
  },
  {
   "cell_type": "code",
   "execution_count": null,
   "outputs": [],
   "source": [
    "with open('data/dict_pmi_verb_pairs.json') as json_file:\n",
    "    dict_pmi_verb_pairs = json.load(json_file)\n"
   ],
   "metadata": {
    "collapsed": false,
    "pycharm": {
     "name": "#%%\n"
    }
   }
  },
  {
   "cell_type": "code",
   "execution_count": null,
   "outputs": [],
   "source": [
    "nb_verbs = 50\n",
    "most_common_verbs = [verb for (verb, count) in Counter(all_verbs).most_common(nb_verbs)]\n",
    "all_verb_pairs_most_common = [[a1, a2] for [a1, a2] in all_verb_pairs if a1 in most_common_verbs and a2 in most_common_verbs]\n",
    "all_verb_pairs_most_common += [[a2, a1] for [a1, a2] in all_verb_pairs if a1 in most_common_verbs and a2 in most_common_verbs]"
   ],
   "metadata": {
    "collapsed": false,
    "pycharm": {
     "name": "#%%\n"
    }
   }
  },
  {
   "cell_type": "code",
   "execution_count": null,
   "outputs": [],
   "source": [
    "# for (verb_pair, freq) in Counter(all_verb_pairs).most_common()[:20]:\n",
    "for (verb_pair, freq) in Counter(all_verb_pairs).most_common()[-20:]:\n",
    "    print(f\"{verb_pair[0]}, {verb_pair[1]} & {freq} \\\\\\ \")"
   ],
   "metadata": {
    "collapsed": false,
    "pycharm": {
     "name": "#%%\n"
    }
   }
  },
  {
   "cell_type": "code",
   "execution_count": null,
   "outputs": [],
   "source": [
    "df = pd.DataFrame(all_verb_pairs_most_common, columns=['verb1', 'verb2'])\n",
    "df"
   ],
   "metadata": {
    "collapsed": false,
    "pycharm": {
     "name": "#%%\n"
    }
   }
  },
  {
   "cell_type": "code",
   "execution_count": null,
   "outputs": [],
   "source": [
    "#convert to co-occurance matrix\n",
    "co_mat_verb = pd.crosstab(df.verb1, df.verb2)\n",
    "co_mat_verb"
   ],
   "metadata": {
    "collapsed": false,
    "pycharm": {
     "name": "#%%\n"
    }
   }
  },
  {
   "cell_type": "code",
   "execution_count": null,
   "outputs": [],
   "source": [
    "co_mat_verb_norm = co_mat_verb.copy()\n",
    "for verb1 in tqdm(most_common_verbs):\n",
    "    for verb2 in most_common_verbs:\n",
    "        verb_pair = str(tuple(sorted((verb1, verb2))))\n",
    "        if verb_pair in dict_pmi_verb_pairs:\n",
    "            co_mat_verb_norm[verb1][verb2] = dict_pmi_verb_pairs[verb_pair]\n",
    "        else:\n",
    "            co_mat_verb_norm[verb1][verb2] = 0\n",
    "        if verb1 == verb2:\n",
    "            co_mat_verb_norm[verb1][verb2] = 0\n",
    "co_mat_verb_norm"
   ],
   "metadata": {
    "collapsed": false,
    "pycharm": {
     "name": "#%%\n"
    }
   }
  },
  {
   "cell_type": "code",
   "execution_count": null,
   "outputs": [],
   "source": [
    "array_co_mat_verbs_norm = np.array(co_mat_verb_norm)\n",
    "array_co_mat_verbs_norm.shape"
   ],
   "metadata": {
    "collapsed": false,
    "pycharm": {
     "name": "#%%\n"
    }
   }
  },
  {
   "cell_type": "code",
   "execution_count": null,
   "outputs": [],
   "source": [
    "dist_mat = array_co_mat_verbs_norm\n",
    "plt.pcolormesh(dist_mat)\n",
    "plt.colorbar()\n",
    "plt.show()"
   ],
   "metadata": {
    "collapsed": false,
    "pycharm": {
     "name": "#%%\n"
    }
   }
  },
  {
   "cell_type": "code",
   "execution_count": null,
   "outputs": [],
   "source": [
    "ordered_dist_mat, res_order, res_linkage = compute_serial_matrix(dist_mat, method='average')\n",
    "most_common_verbs_mat = list(co_mat_verb_norm.columns)\n",
    "labels = [most_common_verbs_mat[r] for r in res_order]\n",
    "\n",
    "# fig, ax = plt.subplots()\n",
    "# fig.subplots_adjust(bottom=0.25,left=0.25) # make room for labels\n",
    "\n",
    "ax = plt.gca()\n",
    "# ax.set_xticks(np.linspace(1,len(labels),num=len(labels)))\n",
    "# ax.set_yticks(np.linspace(1,len(labels), num=len(labels)))\n",
    "plt.pcolormesh(ordered_dist_mat)\n",
    "plt.colorbar()\n",
    "\n",
    "# Set ticks in center of cells\n",
    "ax.set_xticks(np.arange(ordered_dist_mat.shape[1]) + 0.5, minor=False)\n",
    "ax.set_yticks(np.arange(ordered_dist_mat.shape[0]) + 0.5, minor=False)\n",
    "\n",
    "# Rotate the xlabels. Set both x and y labels to headers[1:]\n",
    "ax.set_xticklabels(labels,rotation=90)\n",
    "ax.set_yticklabels(labels)\n",
    "\n",
    "plt.show()"
   ],
   "metadata": {
    "collapsed": false,
    "pycharm": {
     "name": "#%%\n"
    }
   }
  },
  {
   "cell_type": "code",
   "execution_count": null,
   "outputs": [],
   "source": [
    "df = pd.DataFrame(ordered_dist_mat, columns = labels, index = labels)\n",
    "df"
   ],
   "metadata": {
    "collapsed": false,
    "pycharm": {
     "name": "#%%\n"
    }
   }
  },
  {
   "cell_type": "code",
   "execution_count": null,
   "outputs": [],
   "source": [
    "df_good = df.copy()\n",
    "for verb1 in tqdm(most_common_verbs):\n",
    "    for verb2 in most_common_verbs:\n",
    "        verb_pair = str(tuple(sorted((verb1, verb2))))\n",
    "        if verb1 == verb2 and str(verb_pair) in dict_pmi_verb_pairs:\n",
    "            df_good[verb1][verb2] = dict_pmi_verb_pairs[str(verb_pair)]\n",
    "df_good"
   ],
   "metadata": {
    "collapsed": false,
    "pycharm": {
     "name": "#%%\n"
    }
   }
  },
  {
   "cell_type": "code",
   "execution_count": null,
   "outputs": [],
   "source": [
    "# plot heat map of verb co-occurrance matrix\n",
    "sns.set(font_scale = 2)\n",
    "plt.figure(figsize=(21, 21))\n",
    "# plt.figure(figsize=(45, 45))\n",
    "# mask = np.zeros_like(df_good)\n",
    "# mask[np.triu_indices_from(mask)] = True\n",
    "#TODO: TRY CLUSTERMAP\n",
    "ax = sns.heatmap(df_good, square=True, cmap='BuPu', vmin=0, linewidths=.2, cbar_kws={\"shrink\": .50}, fmt='.2f',\n",
    "            xticklabels=labels, yticklabels=labels) #df mask=mask \n",
    "# ax.invert_yaxis()\n",
    "\n",
    "ax.axes.xaxis.set_ticks_position(\"top\")\n",
    "ax.set_xticklabels(ax.get_xticklabels(), rotation=90)\n",
    "ax.tick_params(left=False, top=False)\n",
    "\n",
    "# plt.savefig('data/plots/co-occurrence_verbs_20.pdf', bbox_inches='tight')\n",
    "plt.savefig('data/plots/co-occurrence_verbs_50.pdf', bbox_inches='tight')"
   ],
   "metadata": {
    "collapsed": false,
    "pycharm": {
     "name": "#%%\n"
    }
   }
  },
  {
   "cell_type": "code",
   "execution_count": null,
   "outputs": [],
   "source": [
    "# plt.spy()\n",
    "# plt.matshow(co_mat_verb_norm.to_numpy());\n",
    "# plt.colorbar()\n",
    "# plt.show()\n",
    "plt.spy(co_mat_verb_norm.to_numpy())"
   ],
   "metadata": {
    "collapsed": false,
    "pycharm": {
     "name": "#%%\n"
    }
   }
  },
  {
   "cell_type": "code",
   "execution_count": null,
   "outputs": [],
   "source": [
    "def count_nb_co_occurences(verb):\n",
    "    count = 0\n",
    "    for [v1, v2] in set(all_verb_pairs):\n",
    "        if v1 == verb or v2 == verb:\n",
    "            count += 1\n",
    "    return count"
   ],
   "metadata": {
    "collapsed": false,
    "pycharm": {
     "name": "#%%\n"
    }
   }
  },
  {
   "cell_type": "code",
   "execution_count": null,
   "outputs": [],
   "source": [
    "dict_non_zero = defaultdict(list)\n",
    "matrix = co_mat_verb_norm.to_numpy()\n",
    "for i in range(len(matrix)):\n",
    "    for j in range(len(matrix[i])):\n",
    "        if matrix[i][j] != 0:\n",
    "            dict_non_zero[i].append((j, matrix[i][j]))\n",
    "    dict_non_zero[i] = sorted(dict_non_zero[i], key= lambda x: x[1], reverse=True)\n",
    "dict_non_zero\n",
    "\n",
    "dict_verb = defaultdict()\n",
    "for verb in set(all_verbs):\n",
    "    dict_verb[verb] = count_nb_co_occurences(verb)\n",
    "\n",
    "dict_verb_sorted = {k: v for k, v in sorted(dict_verb.items(), key=lambda item: item[1], reverse = True)}\n",
    "most_co_occurring_verbs = [(k,v) for k, v in dict_verb_sorted.items()][:10]\n",
    "least_co_occurring_verbs = [(k,v) for k, v in dict_verb_sorted.items()][-10:]\n",
    "\n",
    "print(len(set(all_verbs)))\n",
    "print(most_co_occurring_verbs)\n",
    "print(least_co_occurring_verbs)"
   ],
   "metadata": {
    "collapsed": false,
    "pycharm": {
     "name": "#%%\n"
    }
   }
  },
  {
   "cell_type": "markdown",
   "source": [
    "## Action clustering"
   ],
   "metadata": {
    "collapsed": false,
    "pycharm": {
     "name": "#%% md\n"
    }
   }
  },
  {
   "cell_type": "markdown",
   "source": [
    "### Use for tSNE clusters"
   ],
   "metadata": {
    "collapsed": false,
    "pycharm": {
     "name": "#%% md\n"
    }
   }
  },
  {
   "cell_type": "code",
   "execution_count": null,
   "outputs": [],
   "source": [
    "from sklearn.neighbors import NearestNeighbors\n",
    "# !pip install adjustText\n",
    "import matplotlib.pyplot as plt \n",
    "import random\n",
    "from adjustText import adjust_text # this package corrects the label overlap. I installed it with conda/ pip in my virtual env\n",
    "from sklearn.manifold import TSNE # This transforms the data from a high dimensional vector (768d in this case) to a 2d one, https://scikit-learn.org/stable/modules/generated/sklearn.manifold.TSNE.html\n"
   ],
   "metadata": {
    "collapsed": false,
    "pycharm": {
     "name": "#%%\n"
    }
   }
  },
  {
   "cell_type": "code",
   "execution_count": null,
   "outputs": [],
   "source": [
    "def make_color_dict(clusters):  #TODO: color_list should be changed to automatic list based on number of clusters\n",
    "    color_dict = {}\n",
    "    # color_list = ['tab:blue', 'tab:orange', 'tab:green', 'tab:red', 'tab:purple', 'tab:brown', 'tab:pink', 'tab:gray', 'tab:olive', 'tab:cyan']\n",
    "    color_list = []\n",
    "    color_list = sns.color_palette(\"hls\", len(clusters))\n",
    "    n = len(clusters)\n",
    "    # for i in range(n):\n",
    "    #     r = random.randint(0, 10)\n",
    "    #     g = random.randint(0, 10)\n",
    "    #     b = random.randint(0, 10)\n",
    "    #     color_list.append((float(r)/10, float(g)/10, float(b)/10))\n",
    "    for i, key in enumerate(clusters.keys()):\n",
    "        color_dict[key] = color_list[i]\n",
    "    return color_dict"
   ],
   "metadata": {
    "collapsed": false,
    "pycharm": {
     "name": "#%%\n"
    }
   }
  },
  {
   "cell_type": "code",
   "execution_count": null,
   "outputs": [],
   "source": [
    "def get_key_by_val(clusters, val):\n",
    "    for k in clusters.keys():\n",
    "        values = clusters[k]\n",
    "        if val in values:\n",
    "            return k"
   ],
   "metadata": {
    "collapsed": false,
    "pycharm": {
     "name": "#%%\n"
    }
   }
  },
  {
   "cell_type": "code",
   "execution_count": null,
   "outputs": [],
   "source": [
    "def tsne_plot_2d(clusters, embeddings, actions):\n",
    "    sns.set_style(\"white\")\n",
    "    plt.figure(figsize=(16, 13))\n",
    "    color_dict = make_color_dict(clusters)\n",
    "    texts = []\n",
    "    cluster_dict = {}\n",
    "    for embedding, action in zip(embeddings, actions):\n",
    "        x = embedding[0]\n",
    "        y = embedding[1]\n",
    "\n",
    "        cluster_key = get_key_by_val(clusters, action)\n",
    "        if not cluster_key:\n",
    "            continue\n",
    "#         print(cluster_key)\n",
    "        color = color_dict[cluster_key]\n",
    "        \n",
    "        if cluster_key not in cluster_dict:\n",
    "            plt.scatter(x, y, color=color, s=100, label=cluster_key)\n",
    "            cluster_dict[cluster_key] = []\n",
    "        else:\n",
    "            plt.scatter(x, y, color=color, s=100)\n",
    "        cluster_dict[cluster_key].append((x, y, action))\n",
    "            \n",
    "    for id in cluster_dict:\n",
    "        points = cluster_dict[id]\n",
    "        for point in points:\n",
    "            texts.append(plt.text(point[0], point[1], point[2], ha='right', va='bottom', size=21, color = color_dict[id], wrap=True))\n",
    "    adjust_text(texts)\n",
    "\n",
    "    # plt.grid(True)\n",
    "    # plt.legend(loc=1, prop={'size': 15})\n",
    "    plt.legend(loc='upper center', bbox_to_anchor=(0.5, -0.01),\n",
    "          ncol=4, shadow=True, prop={'size': 20})\n",
    "    # Turn off tick labels\n",
    "    plt.yticks([])\n",
    "    plt.xticks([])\n",
    "    plt.savefig(\"data/plots/clusters.pdf\", bbox_inches = \"tight\")"
   ],
   "metadata": {
    "collapsed": false,
    "pycharm": {
     "name": "#%%\n"
    }
   }
  },
  {
   "cell_type": "code",
   "execution_count": null,
   "outputs": [],
   "source": [
    "# SentenceBert embeddings\n",
    "from sentence_transformers import SentenceTransformer \n",
    "model = SentenceTransformer('stsb-roberta-base')"
   ],
   "metadata": {
    "collapsed": false,
    "pycharm": {
     "name": "#%%\n"
    }
   }
  },
  {
   "cell_type": "code",
   "execution_count": 52,
   "id": "a3e36e27",
   "metadata": {
    "pycharm": {
     "name": "#%%\n"
    }
   },
   "outputs": [
    {
     "data": {
      "text/plain": [
       "<matplotlib.image.AxesImage at 0x7faf2277d0d0>"
      ]
     },
     "execution_count": 52,
     "metadata": {},
     "output_type": "execute_result"
    },
    {
     "data": {
      "image/png": "[encoded data removed]",
      "text/plain": [
       "<Figure size 432x288 with 1 Axes>"
      ]
     },
     "metadata": {},
     "output_type": "display_data"
    }
   ],
   "source": [
    "# plt.spy()\n",
    "# plt.matshow(co_mat_verb_norm.to_numpy());\n",
    "# plt.colorbar()\n",
    "# plt.show()\n",
    "plt.spy(co_mat_verb_norm.to_numpy())"
   ]
  },
  {
   "cell_type": "code",
   "execution_count": 36,
   "id": "f6bf288c",
   "metadata": {
    "pycharm": {
     "name": "#%%\n"
    }
   },
   "outputs": [],
   "source": [
    "def count_nb_co_occurences(verb):\n",
    "    count = 0\n",
    "    for [v1, v2] in set(all_verb_pairs):\n",
    "        if v1 == verb or v2 == verb:\n",
    "            count += 1\n",
    "    return count"
   ]
  },
  {
   "cell_type": "code",
   "execution_count": 37,
   "id": "c2cb17a9",
   "metadata": {
    "pycharm": {
     "name": "#%%\n"
    }
   },
   "outputs": [
    {
     "name": "stdout",
     "output_type": "stream",
     "text": [
      "164\n",
      "[('use', 137), ('put', 127), ('add', 112), ('clean', 72), ('cut', 69), ('wash', 56), ('eat', 56), ('wear', 52), ('hold', 47), ('stick', 45)]\n",
      "[('hunt', 1), ('grind', 1), ('shred', 1), ('wind', 1), ('sprain', 1), ('chase', 1), ('inject', 1), ('photograph', 1), ('spritz', 1), ('kiss', 1)]\n"
     ]
    }
   ],
   "source": [
    "dict_non_zero = defaultdict(list)\n",
    "matrix = co_mat_verb_norm.to_numpy()\n",
    "for i in range(len(matrix)):\n",
    "    for j in range(len(matrix[i])):\n",
    "        if matrix[i][j] != 0:\n",
    "            dict_non_zero[i].append((j, matrix[i][j]))\n",
    "    dict_non_zero[i] = sorted(dict_non_zero[i], key= lambda x: x[1], reverse=True)\n",
    "dict_non_zero\n",
    "\n",
    "dict_verb = defaultdict()\n",
    "for verb in set(all_verbs):\n",
    "    dict_verb[verb] = count_nb_co_occurences(verb)\n",
    "\n",
    "dict_verb_sorted = {k: v for k, v in sorted(dict_verb.items(), key=lambda item: item[1], reverse = True)}\n",
    "most_co_occurring_verbs = [(k,v) for k, v in dict_verb_sorted.items()][:10]\n",
    "least_co_occurring_verbs = [(k,v) for k, v in dict_verb_sorted.items()][-10:]\n",
    "\n",
    "print(len(set(all_verbs)))\n",
    "print(most_co_occurring_verbs)\n",
    "print(least_co_occurring_verbs)"
   ]
  },
  {
   "cell_type": "markdown",
   "id": "b1003914",
   "metadata": {
    "pycharm": {
     "name": "#%% md\n"
    }
   },
   "source": [
    "## Action clustering"
   ]
  },
  {
   "cell_type": "markdown",
   "id": "3699a039",
   "metadata": {
    "pycharm": {
     "name": "#%% md\n"
    }
   },
   "source": [
    "### Use for tSNE clusters"
   ]
  },
  {
   "cell_type": "code",
   "execution_count": 73,
   "id": "18ca098c",
   "metadata": {
    "pycharm": {
     "name": "#%%\n"
    }
   },
   "outputs": [],
   "source": [
    "from sklearn.neighbors import NearestNeighbors\n",
    "# !pip install adjustText\n",
    "import matplotlib.pyplot as plt \n",
    "import random\n",
    "from adjustText import adjust_text # this package corrects the label overlap. I installed it with conda/ pip in my virtual env\n",
    "from sklearn.manifold import TSNE # This transforms the data from a high dimensional vector (768d in this case) to a 2d one, https://scikit-learn.org/stable/modules/generated/sklearn.manifold.TSNE.html\n"
   ]
  },
  {
   "cell_type": "code",
   "execution_count": 74,
   "id": "2d2d2668",
   "metadata": {
    "pycharm": {
     "name": "#%%\n"
    }
   },
   "outputs": [],
   "source": [
    "def make_color_dict(clusters):  #TODO: color_list should be changed to automatic list based on number of clusters\n",
    "    color_dict = {}\n",
    "    # color_list = ['tab:blue', 'tab:orange', 'tab:green', 'tab:red', 'tab:purple', 'tab:brown', 'tab:pink', 'tab:gray', 'tab:olive', 'tab:cyan']\n",
    "    color_list = []\n",
    "    color_list = sns.color_palette(\"hls\", len(clusters))\n",
    "    n = len(clusters)\n",
    "    # for i in range(n):\n",
    "    #     r = random.randint(0, 10)\n",
    "    #     g = random.randint(0, 10)\n",
    "    #     b = random.randint(0, 10)\n",
    "    #     color_list.append((float(r)/10, float(g)/10, float(b)/10))\n",
    "    for i, key in enumerate(clusters.keys()):\n",
    "        color_dict[key] = color_list[i]\n",
    "    return color_dict"
   ]
  },
  {
   "cell_type": "code",
   "execution_count": 75,
   "id": "b03b3738",
   "metadata": {
    "pycharm": {
     "name": "#%%\n"
    }
   },
   "outputs": [],
   "source": [
    "def get_key_by_val(clusters, val):\n",
    "    for k in clusters.keys():\n",
    "        values = clusters[k]\n",
    "        if val in values:\n",
    "            return k"
   ]
  },
  {
   "cell_type": "code",
   "execution_count": 76,
   "id": "4a80951c",
   "metadata": {
    "pycharm": {
     "name": "#%%\n"
    }
   },
   "outputs": [],
   "source": [
    "def tsne_plot_2d(clusters, embeddings, actions):\n",
    "    sns.set_style(\"white\")\n",
    "    plt.figure(figsize=(16, 13))\n",
    "    color_dict = make_color_dict(clusters)\n",
    "    texts = []\n",
    "    cluster_dict = {}\n",
    "    for embedding, action in zip(embeddings, actions):\n",
    "        x = embedding[0]\n",
    "        y = embedding[1]\n",
    "\n",
    "        cluster_key = get_key_by_val(clusters, action)\n",
    "        if not cluster_key:\n",
    "            continue\n",
    "#         print(cluster_key)\n",
    "        color = color_dict[cluster_key]\n",
    "        \n",
    "        if cluster_key not in cluster_dict:\n",
    "            plt.scatter(x, y, color=color, s=100, label=cluster_key)\n",
    "            cluster_dict[cluster_key] = []\n",
    "        else:\n",
    "            plt.scatter(x, y, color=color, s=100)\n",
    "        cluster_dict[cluster_key].append((x, y, action))\n",
    "            \n",
    "    for id in cluster_dict:\n",
    "        points = cluster_dict[id]\n",
    "        for point in points:\n",
    "            texts.append(plt.text(point[0], point[1], point[2], ha='right', va='bottom', size=21, color = color_dict[id], wrap=True))\n",
    "    adjust_text(texts)\n",
    "\n",
    "    # plt.grid(True)\n",
    "    # plt.legend(loc=1, prop={'size': 15})\n",
    "    plt.legend(loc='upper center', bbox_to_anchor=(0.5, -0.01),\n",
    "          ncol=4, shadow=True, prop={'size': 20})\n",
    "    # Turn off tick labels\n",
    "    plt.yticks([])\n",
    "    plt.xticks([])\n",
    "    plt.savefig(\"data/plots/clusters.pdf\", bbox_inches = \"tight\")"
   ]
  },
  {
   "cell_type": "code",
   "execution_count": 77,
   "id": "44f866e8",
   "metadata": {
    "pycharm": {
     "name": "#%%\n"
    }
   },
   "outputs": [],
   "source": [
    "# SentenceBert embeddings\n",
    "from sentence_transformers import SentenceTransformer \n",
    "model = SentenceTransformer('stsb-roberta-base')"
   ]
  },
  {
   "cell_type": "code",
   "execution_count": 78,
   "id": "ce7ec206",
   "metadata": {
    "pycharm": {
     "name": "#%%\n"
    }
   },
   "outputs": [],
   "source": [
    "with open('data/dict_clustered_actions.json') as json_file:\n",
    "    dict_clustered_actions = json.load(json_file)"
   ]
  },
  {
   "cell_type": "code",
   "execution_count": 79,
   "id": "83119213",
   "metadata": {
    "pycharm": {
     "name": "#%%\n"
    }
   },
   "outputs": [
    {
     "name": "stdout",
     "output_type": "stream",
     "text": [
      "film for guy 68\n",
      "clean area 46\n",
      "use type 46\n",
      "pick bag 44\n",
      "add oil 44\n",
      "cut piece 43\n",
      "wear top 43\n",
      "add water 43\n",
      "add egg 41\n",
      "wash hair 40\n"
     ]
    }
   ],
   "source": [
    "# get biggest clusters\n",
    "for key in sorted(dict_clustered_actions, key=lambda k : len(dict_clustered_actions[k]), reverse=True)[:10]:\n",
    "    print(key, len(dict_clustered_actions[key]))"
   ]
  },
  {
   "cell_type": "code",
   "execution_count": 84,
   "id": "b15600bc",
   "metadata": {
    "scrolled": true,
    "pycharm": {
     "name": "#%%\n"
    }
   },
   "outputs": [
    {
     "data": {
      "text/plain": [
       "{'add oil': ['launch oil',\n",
       "  'soak oil',\n",
       "  'rid of oil',\n",
       "  'pull oil from pore',\n",
       "  'shake oil'],\n",
       " 'add cup': ['drink cup',\n",
       "  'serve in cup',\n",
       "  'stir third of cup',\n",
       "  'stack mug',\n",
       "  'pour into cup'],\n",
       " 'add water': ['wash under water',\n",
       "  'mix water',\n",
       "  'provide hydration',\n",
       "  'use water',\n",
       "  'drink water'],\n",
       " 'put top': ['set top', 'sew top', 'hold top', 'sit over top', 'use top'],\n",
       " 'cut piece': ['cut height',\n",
       "  'cut layer',\n",
       "  'cut present',\n",
       "  'cut r',\n",
       "  'put cutout shape'],\n",
       " 'put bowl': ['color in bowl',\n",
       "  'serve in bowl',\n",
       "  'flip bowl',\n",
       "  'pour into bowl',\n",
       "  'fill bowl'],\n",
       " 'use type': ['use cent worth',\n",
       "  'use to city',\n",
       "  'use layer',\n",
       "  'use piece',\n",
       "  'use set'],\n",
       " 'clean sink': ['clear bathtub',\n",
       "  'clean soap station',\n",
       "  'clean faucet',\n",
       "  'clean of soap',\n",
       "  'clean tub'],\n",
       " 'add egg': ['eat egg',\n",
       "  'pour egg',\n",
       "  'place egg on rack',\n",
       "  'paint recyclable egg carton',\n",
       "  'pick egg'],\n",
       " 'add onion': ['eat onion',\n",
       "  'stir onion',\n",
       "  'remove layer of onion',\n",
       "  'burn onion',\n",
       "  'chop onion']}"
      ]
     },
     "execution_count": 84,
     "metadata": {},
     "output_type": "execute_result"
    }
   ],
   "source": [
    "# get most frequent clusters\n",
    "# print(Counter(all_actions).most_common(20))\n",
    "# counts_all_actions = list(Counter(all_actions).values())\n",
    "# sns.displot(counts_all_actions)\n",
    "most_freq_clusters = {k:dict_clustered_actions[k][:5] for (k, _) in Counter(all_actions).most_common(10)}\n",
    "least_freq_clusters = {k:dict_clustered_actions[k][:5] for (k, _) in Counter(all_actions).most_common()[-10:]}\n",
    "\n",
    "freq_actions_clusters = list(set([s1 for s in most_freq_clusters.values() for s1 in s]))\n",
    "least_freq_actions_clusters = list(set([s1 for s in least_freq_clusters.values() for s1 in s]))\n",
    "\n",
    "freq_sentence_embeddings = model.encode(freq_actions_clusters)\n",
    "least_freq_sentence_embeddings = model.encode(least_freq_actions_clusters)\n",
    "\n",
    "most_freq_clusters"
   ]
  },
  {
   "cell_type": "code",
   "execution_count": 81,
   "id": "cda4b9de",
   "metadata": {
    "pycharm": {
     "name": "#%%\n"
    }
   },
   "outputs": [],
   "source": [
    "# Project the data: this step will take several seconds\n",
    "tsne = TSNE(n_components=2, init='random', random_state=0) #n_components is the dimension of the vector"
   ]
  },
  {
   "cell_type": "code",
   "execution_count": 83,
   "id": "e069b75a",
   "metadata": {
    "pycharm": {
     "name": "#%%\n"
    }
   },
   "outputs": [
    {
     "name": "stderr",
     "output_type": "stream",
     "text": [
      "/home/oignat/.pyenv/versions/action_order/lib/python3.8/site-packages/sklearn/manifold/_t_sne.py:790: FutureWarning: The default learning rate in TSNE will change from 200.0 to 'auto' in 1.2.\n",
      "  warnings.warn(\n"
     ]
    },
    {
     "data": {
      "image/png": "[encoded data removed]",
      "text/plain": [
       "<Figure size 1152x936 with 1 Axes>"
      ]
     },
     "metadata": {},
     "output_type": "display_data"
    }
   ],
   "source": [
    "sentence_embeddings_proj_2d = tsne.fit_transform(freq_sentence_embeddings)\n",
    "tsne_plot_2d(most_freq_clusters, sentence_embeddings_proj_2d, freq_actions_clusters)"
   ]
  },
  {
   "cell_type": "code",
   "execution_count": 33,
   "id": "e18ee5fb",
   "metadata": {
    "pycharm": {
     "name": "#%%\n"
    }
   },
   "outputs": [
    {
     "name": "stderr",
     "output_type": "stream",
     "text": [
      "/home/oignat/.pyenv/versions/action_order/lib/python3.8/site-packages/sklearn/manifold/_t_sne.py:790: FutureWarning: The default learning rate in TSNE will change from 200.0 to 'auto' in 1.2.\n",
      "  warnings.warn(\n"
     ]
    },
    {
     "data": {
      "image/png": "[encoded data removed]",
      "text/plain": [
       "<Figure size 1152x936 with 1 Axes>"
      ]
     },
     "metadata": {},
     "output_type": "display_data"
    }
   ],
   "source": [
    "sentence_embeddings_proj_2d = tsne.fit_transform(least_freq_sentence_embeddings)\n",
    "tsne_plot_2d(least_freq_clusters, sentence_embeddings_proj_2d, least_freq_actions_clusters)"
   ]
  },
  {
   "cell_type": "code",
   "execution_count": 65,
   "id": "b6b92dab",
   "metadata": {
    "scrolled": true,
    "pycharm": {
     "name": "#%%\n"
    }
   },
   "outputs": [
    {
     "data": {
      "text/plain": [
       "['add water',\n",
       " 'add to bowl',\n",
       " 'put in oven',\n",
       " 'cook for minute',\n",
       " 'add ingredient',\n",
       " 'use oil',\n",
       " 'use water',\n",
       " 'add cinnamon',\n",
       " 'use avocado',\n",
       " 'add garlic',\n",
       " 'add salt',\n",
       " 'wear makeup',\n",
       " 'use banana',\n",
       " 'cook on stove',\n",
       " 'use almond milk',\n",
       " 'add tomato',\n",
       " 'add oil',\n",
       " 'add potato',\n",
       " 'add teaspoon of maple syrup',\n",
       " 'load dishwasher',\n",
       " 'add chicken',\n",
       " 'brush tooth',\n",
       " 'add onion',\n",
       " 'add cup of oats',\n",
       " 'use brush',\n",
       " 'use coconut oil',\n",
       " 'add egg',\n",
       " 'put lid',\n",
       " 'put in refrigerator',\n",
       " 'use cloth',\n",
       " 'wash face',\n",
       " 'use butter',\n",
       " 'chop onion',\n",
       " 'put on top',\n",
       " 'massage kale',\n",
       " 'add to pan',\n",
       " 'add olive oil',\n",
       " 'wash dish',\n",
       " 'add flavor',\n",
       " 'add pepper',\n",
       " 'use milk',\n",
       " 'clean toilet',\n",
       " 'add bean',\n",
       " 'clean sink',\n",
       " 'use tablespoon',\n",
       " 'add vegetable',\n",
       " 'use mushroom',\n",
       " 'cook pasta',\n",
       " 'cook chicken',\n",
       " 'use blender',\n",
       " 'add apple',\n",
       " 'add honey',\n",
       " 'use color',\n",
       " 'eat food',\n",
       " 'use vanilla extract',\n",
       " 'light candle',\n",
       " 'add coconut oil',\n",
       " 'use purpose flour',\n",
       " 'eat in day',\n",
       " 'wash hair',\n",
       " 'add sauce',\n",
       " 'add of cup',\n",
       " 'clean bathtub',\n",
       " 'add peanut butter',\n",
       " 'eat salad',\n",
       " 'use yogurt',\n",
       " 'use lemon',\n",
       " 'cook rice',\n",
       " 'put in smoothie',\n",
       " 'put in container',\n",
       " 'use chocolate',\n",
       " 'put hair',\n",
       " 'add cup of blueberry',\n",
       " 'clean house',\n",
       " 'add lemon juice',\n",
       " 'chop bell pepper',\n",
       " 'use product',\n",
       " 'use teaspoon',\n",
       " 'use bag',\n",
       " 'cut fabric',\n",
       " 'use strawberry',\n",
       " 'put clothe',\n",
       " 'add fat',\n",
       " 'use baking soda',\n",
       " 'use recipe',\n",
       " 'cook egg',\n",
       " 'use mascara',\n",
       " 'add cup of quinoa',\n",
       " 'add to salad',\n",
       " 'add cup of water',\n",
       " 'use soap',\n",
       " 'clean kitchen',\n",
       " 'add vinegar',\n",
       " 'add sugar',\n",
       " 'use bread',\n",
       " 'use fruit',\n",
       " 'use dish soap',\n",
       " 'use chocolate chip',\n",
       " 'use almond butter',\n",
       " 'use cooking oil',\n",
       " 'put in freezer',\n",
       " 'eat breakfast',\n",
       " 'use chickpea',\n",
       " 'use sponge',\n",
       " 'add sweetener',\n",
       " 'pour water',\n",
       " 'add drop of oil',\n",
       " 'add carrot',\n",
       " 'put dish',\n",
       " 'brush hair',\n",
       " 'add to pot',\n",
       " 'add cheese',\n",
       " 'add green',\n",
       " 'use towel',\n",
       " 'put shoe',\n",
       " 'add handful of baby spinach',\n",
       " 'mop floor',\n",
       " 'use berry',\n",
       " 'fill brow',\n",
       " 'clean floor',\n",
       " 'clean mirror',\n",
       " 'add veggie',\n",
       " 'cut into piece',\n",
       " 'use spoon',\n",
       " 'read book',\n",
       " 'add protein',\n",
       " 'use concealer',\n",
       " 'use moisturizer',\n",
       " 'use coconut sugar',\n",
       " 'clean area',\n",
       " 'set timer for minute',\n",
       " 'drink water',\n",
       " 'rinse lentil',\n",
       " 'use cup of cherry tomato',\n",
       " 'put in bathroom',\n",
       " 'sleep on side',\n",
       " 'clean countertop',\n",
       " 'add topping',\n",
       " 'add velcro',\n",
       " 'add broccoli',\n",
       " 'vacuum floor',\n",
       " 'put in microwave',\n",
       " 'use soy sauce',\n",
       " 'clean space',\n",
       " 'clean room',\n",
       " 'use for year',\n",
       " 'add ice cube',\n",
       " 'use paper towel',\n",
       " 'add sea salt',\n",
       " 'vacuum couch',\n",
       " 'use cup',\n",
       " 'use shampoo',\n",
       " 'wash hand',\n",
       " 'cook on side',\n",
       " 'use eat cloth',\n",
       " 'use avocado oil',\n",
       " 'add cocoa powder',\n",
       " 'put flower',\n",
       " 'paint pumpkin',\n",
       " 'rinse bean',\n",
       " 'use knife',\n",
       " 'use bacon',\n",
       " 'chop veggie',\n",
       " 'drink tea',\n",
       " 'add bit',\n",
       " 'add cup of rice',\n",
       " 'clean steel appliance',\n",
       " 'use ingredient',\n",
       " 'clean dish',\n",
       " 'pack snack',\n",
       " 'add ginger',\n",
       " 'fill with water',\n",
       " 'use glue',\n",
       " 'boil water',\n",
       " 'add onto baking dish',\n",
       " 'use lime',\n",
       " 'polish with glass',\n",
       " 'pack of layer',\n",
       " 'add spice',\n",
       " 'use powder',\n",
       " 'use eye cream',\n",
       " 'use mason jar',\n",
       " 'open window',\n",
       " 'cook onion',\n",
       " 'use cleanser',\n",
       " 'add glitter',\n",
       " 'add teaspoon of chia seed',\n",
       " 'chop rotisserie chicken',\n",
       " 'slice zucchini',\n",
       " 'wash sheet',\n",
       " 'wear hair',\n",
       " 'add to bath',\n",
       " 'use paint',\n",
       " 'add to mix',\n",
       " 'clean fridge',\n",
       " 'use tortilla',\n",
       " 'use glove',\n",
       " 'clear counter',\n",
       " 'eat calorie',\n",
       " 'add to mixture',\n",
       " 'use herb',\n",
       " 'chop cucumber',\n",
       " 'put sheet',\n",
       " 'put trash bag',\n",
       " 'pack lunch',\n",
       " 'use hummus',\n",
       " 'use box',\n",
       " 'use tofu',\n",
       " 'drink glass of water',\n",
       " 'rinse with water',\n",
       " 'put pillow',\n",
       " 'sweep floor',\n",
       " 'add cilantro',\n",
       " 'eat dinner',\n",
       " 'use nut butter',\n",
       " 'burn hand',\n",
       " 'use coconut yogurt',\n",
       " 'use food processor',\n",
       " 'use protein powder',\n",
       " 'use on sink',\n",
       " 'put item',\n",
       " 'spray toilet',\n",
       " 'remove makeup',\n",
       " 'use method',\n",
       " 'pour into mold',\n",
       " 'use scissor',\n",
       " 'roll dough',\n",
       " 'eat amount',\n",
       " 'add tsp of cooking oil',\n",
       " 'paint nail',\n",
       " 'clean makeup brush',\n",
       " 'add to meal',\n",
       " 'use hydrogen peroxide',\n",
       " 'use finger',\n",
       " 'add yeast',\n",
       " 'use bottle',\n",
       " 'use vanilla powder',\n",
       " 'paint coat',\n",
       " 'use vacuum',\n",
       " 'put on eyelid',\n",
       " 'put on skin',\n",
       " 'use foundation',\n",
       " 'wear lash',\n",
       " 'load dishwasher at night',\n",
       " 'add teaspoon of macadamia nut oil',\n",
       " 'put at bottom',\n",
       " 'use glass',\n",
       " 'clean window',\n",
       " 'put laundry',\n",
       " 'put book',\n",
       " 'put piece of wood',\n",
       " 'put cauliflower',\n",
       " 'wear sunscreen',\n",
       " 'wear sock',\n",
       " 'put stuff',\n",
       " 'add to tray',\n",
       " 'use pillow',\n",
       " 'squeeze lemon juice',\n",
       " 'use salsa',\n",
       " 'wash makeup brush',\n",
       " 'cut in half',\n",
       " 'massage into skin',\n",
       " 'use coffee',\n",
       " 'add banana to blender',\n",
       " 'melt wax',\n",
       " 'use broom',\n",
       " 'use cleaner',\n",
       " 'add of cabbage',\n",
       " 'drink coffee',\n",
       " 'cut into strip',\n",
       " 'put on bed',\n",
       " 'curl hair',\n",
       " 'put on taco',\n",
       " 'fill pot with water',\n",
       " 'hold for second',\n",
       " 'cook vegetable',\n",
       " 'put on baking sheet',\n",
       " 'set goal',\n",
       " 'eat fruit',\n",
       " 'fold jean',\n",
       " 'work way',\n",
       " 'burn calorie',\n",
       " 'eat vegetable',\n",
       " 'eat carb',\n",
       " 'use corn',\n",
       " 'use fork',\n",
       " 'put in bin',\n",
       " 'eat tuna',\n",
       " 'add rosemary',\n",
       " 'put cup',\n",
       " 'use washi tape',\n",
       " 'add drop',\n",
       " 'use in shower',\n",
       " 'fold corner',\n",
       " 'clean baseboard',\n",
       " 'use toilet paper roll',\n",
       " 'dust surface',\n",
       " 'plant seed',\n",
       " 'mix with cookie dough',\n",
       " 'use for time',\n",
       " 'write list',\n",
       " 'mix into batter',\n",
       " 'blow balloon',\n",
       " 'work from home',\n",
       " 'blend in blender',\n",
       " 'use glass container',\n",
       " 'toss on stove',\n",
       " 'cook in pot',\n",
       " 'put sunscreen on face',\n",
       " 'use in pantry',\n",
       " 'boil egg',\n",
       " 'use in morning',\n",
       " 'add coconut milk',\n",
       " 'use walnut',\n",
       " 'put on face',\n",
       " 'put in ziploc bag',\n",
       " 'add juice',\n",
       " 'stick orange into muffin tin',\n",
       " 'eat of roll',\n",
       " 'use palette',\n",
       " 'lift hip',\n",
       " 'add on top',\n",
       " 'add tea',\n",
       " 'wash clothe',\n",
       " 'put into washing machine',\n",
       " 'use for rest',\n",
       " 'cover jar with lid',\n",
       " 'put sugar',\n",
       " 'use for pizza',\n",
       " 'stir saucepan',\n",
       " 'eat meat',\n",
       " 'use chicken broth',\n",
       " 'use cotton pad',\n",
       " 'use iron',\n",
       " 'add pancake to bowl',\n",
       " 'add ice',\n",
       " 'wear on way',\n",
       " 'open eye',\n",
       " 'wash body',\n",
       " 'add glue',\n",
       " 'add storage',\n",
       " 'use in kitchen',\n",
       " 'put granola',\n",
       " 'add to sandwich',\n",
       " 'use for lip',\n",
       " 'wear jean',\n",
       " 'use mask',\n",
       " 'sleep through night',\n",
       " 'use twine',\n",
       " 'use around house',\n",
       " 'use purpose cleaning solution',\n",
       " 'use laundry basket',\n",
       " 'stack pan',\n",
       " 'chop potato',\n",
       " 'pour of batter',\n",
       " 'wrap present',\n",
       " 'use blush',\n",
       " 'pull string',\n",
       " 'work stroller',\n",
       " 'wash item',\n",
       " 'kill bacteria',\n",
       " 'put toy',\n",
       " 'use turkey',\n",
       " 'use eyeliner',\n",
       " 'use bonhomie powder',\n",
       " 'put on side',\n",
       " 'add tempeh',\n",
       " 'chop romaine lettuce',\n",
       " 'shave leg',\n",
       " 'put on eye',\n",
       " 'use space',\n",
       " 'add inch piece of pipe',\n",
       " 'hold on couch',\n",
       " 'put shelf',\n",
       " 'sleep in bed',\n",
       " 'use steam mop',\n",
       " 'add chili powder',\n",
       " 'use basil',\n",
       " 'use almond',\n",
       " 'add to soup',\n",
       " 'mix in bowl',\n",
       " 'cut picture',\n",
       " 'wrap gift',\n",
       " 'use laundry detergent',\n",
       " 'roll of note',\n",
       " 'use peppermint',\n",
       " 'pour into container',\n",
       " 'use cream',\n",
       " 'drain water',\n",
       " 'cut into quarter',\n",
       " 'brew chamomile tea',\n",
       " 'add quarter cup of water',\n",
       " 'use dairy yogurt',\n",
       " 'use on face',\n",
       " 'pay attention',\n",
       " 'wear outfit',\n",
       " 'open closet',\n",
       " 'use at night',\n",
       " 'spray wall',\n",
       " 'use sticker',\n",
       " 'cut to size',\n",
       " 'use clay',\n",
       " 'add decor piece',\n",
       " 'put skincare product',\n",
       " 'wash bedding',\n",
       " 'use mop',\n",
       " 'add sausage',\n",
       " 'add liquid',\n",
       " 'mix with hand',\n",
       " 'curl eyelash',\n",
       " 'attach to side',\n",
       " 'throw in trash',\n",
       " 'use rice',\n",
       " 'cook with kid',\n",
       " 'add to cooker',\n",
       " 'put nut',\n",
       " 'use half',\n",
       " 'use rice pasta',\n",
       " 'fold in half',\n",
       " 'use scrub',\n",
       " 'add gelatin',\n",
       " 'add cup of popcorn kernel',\n",
       " 'dust fixture',\n",
       " 'clean car',\n",
       " 'add calorie',\n",
       " 'cook in pan',\n",
       " 'add to plate',\n",
       " 'roast squash',\n",
       " 'cut top of oatmeal container',\n",
       " 'bake potato in oven',\n",
       " 'put on stove',\n",
       " 'wrap ankle weight around leg',\n",
       " 'cut into slice',\n",
       " 'use notebook',\n",
       " 'use pencil',\n",
       " 'use of candy',\n",
       " 'fill area',\n",
       " 'vacuum area',\n",
       " 'empty dishwasher',\n",
       " 'put in freezer bag',\n",
       " 'add date',\n",
       " 'add avocado in salad',\n",
       " 'squash beetroot for dinner meal',\n",
       " 'add half of cup',\n",
       " 'use spatula',\n",
       " 'cover with water',\n",
       " 'use body oil',\n",
       " 'use eyeshadow brush',\n",
       " 'write letter',\n",
       " 'stir cereal',\n",
       " 'add cup of mango',\n",
       " 'add teaspoon of baking powder',\n",
       " 'put piece',\n",
       " 'iron clothe',\n",
       " 'add to lunchbox container',\n",
       " 'clean mattress',\n",
       " 'pack suitcase',\n",
       " 'clean playroom',\n",
       " 'add tablespoon of jerk seasoning',\n",
       " 'put in crock pot',\n",
       " 'add cup of baby tomato',\n",
       " 'use parsley',\n",
       " 'use can',\n",
       " 'cut pool noodle around container',\n",
       " 'put rice milk',\n",
       " 'use for day',\n",
       " 'pack car',\n",
       " 'add oil of choice',\n",
       " 'fill eyebrow',\n",
       " 'use cookie cutter',\n",
       " 'use rag',\n",
       " 'clean toothbrush',\n",
       " 'read review',\n",
       " 'put bit',\n",
       " 'use over body',\n",
       " 'use grain rye bread',\n",
       " 'use label maker',\n",
       " 'put phone',\n",
       " 'raise over head',\n",
       " 'freeze for hour',\n",
       " 'vacuum rug',\n",
       " 'use enzyme cleaner',\n",
       " 'mop bathroom',\n",
       " 'drill hole',\n",
       " 'add brussel sprout to frying pan',\n",
       " 'add stock',\n",
       " 'use window cleaner',\n",
       " 'stir for minute',\n",
       " 'add thyme',\n",
       " 'use planner',\n",
       " 'add boiling water',\n",
       " 'use paper',\n",
       " 'put on wall',\n",
       " 'squeeze butt',\n",
       " 'use tape',\n",
       " 'throw in wash',\n",
       " 'add cranberry',\n",
       " 'load throughout day',\n",
       " 'add dressing',\n",
       " 'add broth',\n",
       " 'use sunflower seed',\n",
       " 'add cumin',\n",
       " 'use hand',\n",
       " 'eat lunch',\n",
       " 'use applesauce',\n",
       " 'brush in motion',\n",
       " 'chop apple',\n",
       " 'wear shirt',\n",
       " 'put in room',\n",
       " 'put payment',\n",
       " 'mix color',\n",
       " 'cut marshmallow in half',\n",
       " 'use house',\n",
       " 'use weight',\n",
       " 'put orange peel',\n",
       " 'add coconut amino',\n",
       " 'add spinach',\n",
       " 'stir fry',\n",
       " 'use serum',\n",
       " 'use straw',\n",
       " 'put music',\n",
       " 'add tablespoon of water',\n",
       " 'use conditioner',\n",
       " 'set tone for day',\n",
       " 'set chocolate mold',\n",
       " 'use nail file',\n",
       " 'use hook',\n",
       " 'remove liner',\n",
       " 'put pine cone',\n",
       " 'use razor',\n",
       " 'put clothe in room',\n",
       " 'put in drawer',\n",
       " 'clean table',\n",
       " 'use pound of chicken',\n",
       " 'add lavender oil',\n",
       " 'lift torso',\n",
       " 'drill screw into anchor',\n",
       " 'wash washer',\n",
       " 'add teaspoon of onion powder',\n",
       " 'put on cheekbone',\n",
       " 'put card',\n",
       " 'clean wall',\n",
       " 'use mrs baking soda cream cleaner',\n",
       " 'add food coloring',\n",
       " 'fill rest with water',\n",
       " 'cook with steel',\n",
       " 'clean dishwashing station',\n",
       " 'use amount',\n",
       " 'mix in container',\n",
       " 'use retinol',\n",
       " 'use mrs meyer',\n",
       " 'add pasta into boiling water',\n",
       " 'use egg white',\n",
       " 'add tablespoon of apple cider vinegar',\n",
       " 'use bronzer',\n",
       " 'put foot',\n",
       " 'open pore',\n",
       " 'use toner',\n",
       " 'use cosmetic concealer',\n",
       " 'lay layer',\n",
       " 'add quarter teaspoon of cinnamon',\n",
       " 'add feather',\n",
       " 'pour into bowl',\n",
       " 'put cushion',\n",
       " 'rub stain',\n",
       " 'drink wine',\n",
       " 'catch breath',\n",
       " 'use point',\n",
       " 'use e cloth glass',\n",
       " 'add beef',\n",
       " 'cut recipe in half',\n",
       " 'put hair into ponytail',\n",
       " 'use syrup',\n",
       " 'pour milk',\n",
       " 'combine cup water cornstarch in bowl',\n",
       " 'use eraser sponge',\n",
       " 'use dish brush',\n",
       " 'blend into crease',\n",
       " 'pull thread',\n",
       " 'stick to noodle',\n",
       " 'use nut milk bag',\n",
       " 'eat in morning',\n",
       " 'add of cayenne pepper',\n",
       " 'sprinkle bit into pot',\n",
       " 'use on cuticle',\n",
       " 'wear legging',\n",
       " 'add curl',\n",
       " 'wear jacket',\n",
       " 'use filter',\n",
       " 'clean in future',\n",
       " 'dye hair',\n",
       " 'open bag',\n",
       " 'put dot',\n",
       " 'work sugar cookie',\n",
       " 'use shade',\n",
       " 'hold watercolor paint',\n",
       " 'punch hole',\n",
       " 'add kitchen towel',\n",
       " 'write stuff',\n",
       " 'add filling',\n",
       " 'spray in area',\n",
       " 'use oil paint',\n",
       " 'put perfume',\n",
       " 'put in coffee grinder',\n",
       " 'carve lantern face',\n",
       " 'use dryer',\n",
       " 'work at restaurant',\n",
       " 'use leave',\n",
       " 'put in skillet',\n",
       " 'set for hour',\n",
       " 'chop artichoke heart',\n",
       " 'put cream on top',\n",
       " 'cut stem',\n",
       " 'cut end',\n",
       " 'write assignment',\n",
       " 'meet people',\n",
       " 'use in life',\n",
       " 'use hairdryer',\n",
       " 'cut piece of cardboard',\n",
       " 'snip end',\n",
       " 'eat at table',\n",
       " 'lay fabric',\n",
       " 'throw in dryer',\n",
       " 'put on door',\n",
       " 'work on steel',\n",
       " 'paint on canvas',\n",
       " 'put boy in toy',\n",
       " 'cut foot of pantyhose',\n",
       " 'build credit',\n",
       " 'break throughout week',\n",
       " 'add carb',\n",
       " 'use for week',\n",
       " 'add packet',\n",
       " 'use command strip',\n",
       " 'put dryer sheet in glass jar',\n",
       " 'fill with succulent',\n",
       " 'eat diet',\n",
       " 'push finger',\n",
       " 'add cup water with ice cube',\n",
       " 'cut of pocket',\n",
       " 'put bow',\n",
       " 'paint with chalkboard',\n",
       " 'put basket',\n",
       " 'add drop of tea tree oil',\n",
       " 'clean mess',\n",
       " 'clean purpose cloth',\n",
       " 'load dish',\n",
       " 'use miter saw',\n",
       " 'add cup of coleslaw mix',\n",
       " 'set timer',\n",
       " 'add teaspoon of cacao powder',\n",
       " 'use pumpkin seed',\n",
       " 'build desk',\n",
       " 'brush brow',\n",
       " 'use fabric glue',\n",
       " 'place paint inside gallon size ziploc bag tape',\n",
       " 'blend ice cube',\n",
       " 'condition hair',\n",
       " 'stick to plastic wrap',\n",
       " 'put cookie onto sheet',\n",
       " 'stamp corner of cotton napkin',\n",
       " 'use as template',\n",
       " 'put rug',\n",
       " 'clear space',\n",
       " 'put grocery',\n",
       " 'put in mood',\n",
       " 'use exfoliant',\n",
       " 'fill tube sock with sea salt',\n",
       " 'put plant',\n",
       " 'use spray on countertop',\n",
       " 'fix bed',\n",
       " 'stick to bottom',\n",
       " 'bake in kitchen',\n",
       " 'dice stalk of celery',\n",
       " 'eat dairy',\n",
       " 'cook onion in pepper',\n",
       " 'eat on go',\n",
       " 'add sage',\n",
       " 'add of nutrient',\n",
       " 'add mayonnaise',\n",
       " 'add to list',\n",
       " 'use blanket',\n",
       " 'wear bra',\n",
       " 'use photo',\n",
       " 'put energy',\n",
       " 'use mug',\n",
       " 'add soap coloring',\n",
       " 'paint gold',\n",
       " 'throw stuff',\n",
       " 'use hand mixer',\n",
       " 'rub with oil',\n",
       " 'add cube',\n",
       " 'stick onto wall',\n",
       " 'clean with vinegar',\n",
       " 'rip page',\n",
       " 'cut petal piece',\n",
       " 'throw hat',\n",
       " 'toss pan',\n",
       " 'clean vacuum',\n",
       " 'add leave to meal',\n",
       " 'punch circle',\n",
       " 'add sweetness',\n",
       " 'chop ingredient',\n",
       " 'wrap edge',\n",
       " 'use ring finger',\n",
       " 'lift weight',\n",
       " 'cover logo',\n",
       " 'add pecan nut',\n",
       " 'write note',\n",
       " 'put effort',\n",
       " 'use agave',\n",
       " 'pull hair',\n",
       " 'knock cabinet',\n",
       " 'place crossbar in middle',\n",
       " 'put on surface',\n",
       " 'use solution',\n",
       " 'wear boot',\n",
       " 'collect dust',\n",
       " 'put in closet',\n",
       " 'fold boy clothe',\n",
       " 'put rice',\n",
       " 'clear wax of candle jar',\n",
       " 'put into saving',\n",
       " 'use light',\n",
       " 'put medjool date',\n",
       " 'cover pot with lid',\n",
       " 'use shave cream',\n",
       " 'wash sink',\n",
       " 'break throughout day',\n",
       " 'mix with compost',\n",
       " 'use eye pencil',\n",
       " 'put food',\n",
       " 'add seasoning',\n",
       " 'cut door',\n",
       " 'remove skin',\n",
       " 'put recipe in description box',\n",
       " 'put under eye',\n",
       " 'put hashtag',\n",
       " 'use code',\n",
       " 'use face mask',\n",
       " 'rinse hair',\n",
       " 'put hanger',\n",
       " 'use brown',\n",
       " 'add page',\n",
       " 'pull yarn',\n",
       " 'cover with saran wrap',\n",
       " 'break bank',\n",
       " 'draw picture',\n",
       " 'use vegetable peeler',\n",
       " 'put popsicle stick',\n",
       " 'use steamer',\n",
       " 'add rest of orange juice',\n",
       " 'paint wall',\n",
       " 'put fingerprint',\n",
       " 'use lip liner',\n",
       " 'wear slipper',\n",
       " 'use foam',\n",
       " 'cut shape of tree',\n",
       " 'use glass jar for makeup brush storage',\n",
       " 'add chili flake',\n",
       " 'mix with fork',\n",
       " 'add can of enchilada sauce',\n",
       " 'use oregano',\n",
       " 'add third of cup',\n",
       " 'toast slice',\n",
       " 'squeeze muscle',\n",
       " 'boil for minute',\n",
       " 'drink in background',\n",
       " 'scrape side',\n",
       " 'use for month',\n",
       " 'put necklace',\n",
       " 'wear top',\n",
       " 'drive in car',\n",
       " 'use of gadget',\n",
       " 'use aloe vera',\n",
       " 'clean desk',\n",
       " 'put pen',\n",
       " 'pull skin',\n",
       " 'use desert essence shampoo',\n",
       " 'put over body',\n",
       " 'use lint roller',\n",
       " 'remove rubber band',\n",
       " 'fill spray bottle with water',\n",
       " 'massage into scalp',\n",
       " 'use as highlighter',\n",
       " 'use guy',\n",
       " 'cut top',\n",
       " 'cover baby with chalkboard paint',\n",
       " 'add cup of pineapple',\n",
       " 'hold ball',\n",
       " 'clear dresser',\n",
       " 'put in spray bottle',\n",
       " 'use steam',\n",
       " 'cut into bar shape',\n",
       " 'trim flower plant',\n",
       " 'use e class',\n",
       " 'wear hat',\n",
       " 'work in section',\n",
       " 'use bon ami',\n",
       " 'toss rug into washer',\n",
       " 'put tea into station',\n",
       " 'put play doh',\n",
       " 'add teriyaki sauce',\n",
       " 'put salmon on top',\n",
       " 'use calendar',\n",
       " 'grill chicken with herb mix',\n",
       " 'stick on countertop',\n",
       " 'put story',\n",
       " 'throw in water',\n",
       " 'cut hair',\n",
       " 'push gel',\n",
       " 'use in description box',\n",
       " 'mow lawn',\n",
       " 'put for second',\n",
       " 'draw line',\n",
       " 'eat napkin',\n",
       " 'use tangle brush',\n",
       " 'tease end of hair',\n",
       " 'cut sun in corner',\n",
       " 'stick kid onto page',\n",
       " 'use mirror',\n",
       " 'put bubble bath',\n",
       " 'use from kilogram',\n",
       " 'use arm',\n",
       " 'use purpose spray',\n",
       " 'use for lavender creme brulee',\n",
       " 'add blueberry into baking dish',\n",
       " 'use anchor',\n",
       " 'add lemon olive oil',\n",
       " 'roast asparagus',\n",
       " 'eat fish',\n",
       " 'use half of avocado',\n",
       " 'prepare meal',\n",
       " 'combine oats flax seed meal',\n",
       " 'use vitamin c serum',\n",
       " 'add to taste',\n",
       " 'pack bag',\n",
       " 'cut along line',\n",
       " 'cut lace to inch',\n",
       " 'eat chip',\n",
       " 'dust blind',\n",
       " 'wear dress',\n",
       " 'wear short',\n",
       " 'add witch hazel',\n",
       " 'close eye',\n",
       " 'place order',\n",
       " 'put underwear',\n",
       " 'add mint',\n",
       " 'wrap in wrapping paper',\n",
       " 'rip couple',\n",
       " 'add scoop',\n",
       " 'cut neater to size',\n",
       " 'place artwork',\n",
       " 'add pop of color',\n",
       " 'draw card',\n",
       " 'cook for hour',\n",
       " 'put white',\n",
       " 'put watermelon on top',\n",
       " 'roll diy decoration for snow cover candle',\n",
       " 'write message',\n",
       " 'open drawer',\n",
       " 'put carpet',\n",
       " 'read manual',\n",
       " 'put seat cover',\n",
       " 'read instruction',\n",
       " 'pay loan',\n",
       " 'put in tea bag',\n",
       " 'work as mousepad',\n",
       " 'use jalapeno',\n",
       " 'cook dinner',\n",
       " 'put boy in bedroom',\n",
       " 'use fabric softener',\n",
       " 'use paint sponge',\n",
       " 'add spring sing',\n",
       " 'use wood filler',\n",
       " 'hold of camping gear',\n",
       " 'add arugula',\n",
       " 'use raspberry',\n",
       " 'wash knob in water',\n",
       " 'build muscle',\n",
       " 'remove from oven',\n",
       " 'close quesadilla',\n",
       " 'cut into wedge',\n",
       " 'boil pasta',\n",
       " 'eat calorie in day',\n",
       " 'put lipstick',\n",
       " 'add layer',\n",
       " 'put in purse',\n",
       " 'wear skirt',\n",
       " 'use oil on skin',\n",
       " 'throw in closet',\n",
       " 'put in place',\n",
       " 'use part',\n",
       " 'attach animal to lid',\n",
       " 'use skewer',\n",
       " 'scrape of food',\n",
       " 'stick half',\n",
       " 'pour color at time',\n",
       " 'add drop of vitamin e',\n",
       " 'twist of section',\n",
       " 'use in kid room',\n",
       " 'use bleach',\n",
       " 'catch eye',\n",
       " 'use spray',\n",
       " 'squeeze ball between foot',\n",
       " 'chop lettuce',\n",
       " 'put hair in bun',\n",
       " 'put hole in wall',\n",
       " 'cut to inch',\n",
       " 'add barbecue',\n",
       " 'add bay leave',\n",
       " 'add toffee topping on top',\n",
       " 'add teaspoon of mustard powder',\n",
       " 'kill bird with stone',\n",
       " 'stick at edge',\n",
       " 'use lip balm',\n",
       " 'use airfryer',\n",
       " 'use in way',\n",
       " 'wear hoodie',\n",
       " 'put contact',\n",
       " 'pull masterpiece',\n",
       " 'put pant',\n",
       " 'drive traffic to people',\n",
       " 'use benefit',\n",
       " 'use app',\n",
       " 'put in corner',\n",
       " 'use type of shower curtain hook',\n",
       " 'clean roof',\n",
       " 'put glass nightstand organizer',\n",
       " 'put on tree',\n",
       " 'pull pie',\n",
       " 'stick pyrex measuring cup',\n",
       " 'use plier',\n",
       " 'use wand',\n",
       " 'attach baby saw with glue',\n",
       " 'add design along bottom',\n",
       " 'use jojoba oil',\n",
       " 'use nutribullet',\n",
       " 'set for success',\n",
       " 'roll over sink',\n",
       " 'use silicone mat',\n",
       " 'put in bedroom',\n",
       " 'remove with washcloth',\n",
       " 'paint opinion',\n",
       " 'pay attention to pet fold',\n",
       " 'cut through tinfoil',\n",
       " 'use gram of cocoa paste',\n",
       " 'prepare gram',\n",
       " 'wear makeup to school',\n",
       " 'add shrimp',\n",
       " 'hold dumbbell in hand',\n",
       " 'use cream cheese',\n",
       " 'attach zipper',\n",
       " 'write check',\n",
       " 'use end s lemon spray',\n",
       " 'add honey to buffalo',\n",
       " 'close jump ring',\n",
       " 'add shell',\n",
       " 'use for while',\n",
       " 'put in toaster',\n",
       " 'use molasse',\n",
       " 'add green powder',\n",
       " 'use soy milk',\n",
       " 'drink water throughout day',\n",
       " 'remove stem',\n",
       " 'stick into bag',\n",
       " 'pay money',\n",
       " 'clean shoe',\n",
       " 'wear in summer',\n",
       " 'use bobby pin',\n",
       " 'add embellishment',\n",
       " 'use baby spa',\n",
       " 'bend in front',\n",
       " 'drink soda',\n",
       " 'cut excess',\n",
       " 'teach kid',\n",
       " 'use scooper',\n",
       " 'remove trash',\n",
       " 'hold stuff',\n",
       " 'remove stain',\n",
       " 'fold comforter',\n",
       " 'clean shelf',\n",
       " 'set table',\n",
       " 'mop rest of hardwood floor',\n",
       " 'attach charm to chain',\n",
       " 'add sriracha',\n",
       " 'use head',\n",
       " 'remove from tray',\n",
       " 'add into yolk',\n",
       " 'lay on side',\n",
       " 'use cookie sheet as magnet board medicine cup tea light',\n",
       " 'use rim liner',\n",
       " 'use leftover',\n",
       " 'add turmeric',\n",
       " 'add cup of pea',\n",
       " 'use vanilla protein powder from company',\n",
       " 'use baby',\n",
       " 'use tablespoon of acai powder',\n",
       " 'add at end',\n",
       " 'put marinara sauce',\n",
       " ...]"
      ]
     },
     "execution_count": 65,
     "metadata": {},
     "output_type": "execute_result"
    }
   ],
   "source": [
    "most_common_actions = [action for (action, count) in Counter(all_actions).most_common()]\n",
    "most_common_actions\n",
    "# all_actions = list(set(all_actions))\n",
    "# len(all_actions)"
   ]
  },
  {
   "cell_type": "code",
   "execution_count": 66,
   "id": "8e11c91d",
   "metadata": {
    "pycharm": {
     "name": "#%%\n"
    }
   },
   "outputs": [],
   "source": [
    "sentence_embeddings = model.encode(most_common_actions)"
   ]
  },
  {
   "cell_type": "code",
   "execution_count": 67,
   "id": "90f18d83",
   "metadata": {
    "pycharm": {
     "name": "#%%\n"
    }
   },
   "outputs": [
    {
     "name": "stdout",
     "output_type": "stream",
     "text": [
      "44\n",
      "Cluster  1\n",
      "['add water', 'use water', 'wash face', 'wash dish', 'wash hair', 'use soap', 'use dish soap', 'use sponge', 'pour water', 'drink water', 'put in bathroom', 'use shampoo', 'wash hand', 'fill with water', 'use cleanser', 'wash sheet', 'add to bath', 'rinse with water', 'use on sink', 'spray toilet', 'use vacuum', 'use cleaner', 'fill pot with water', 'use in shower', 'use toilet paper roll', 'wash clothe', 'wash body', 'use purpose cleaning solution', 'wash item', 'kill bacteria', 'drain water', 'spray wall', 'wash bedding', 'use mop', 'cover with water', 'use enzyme cleaner', 'mop bathroom', 'use window cleaner', 'throw in wash', 'use conditioner', 'wash washer', 'fill rest with water', 'use eraser sponge', 'use filter', 'spray in area', 'add soap coloring', 'wash sink', 'use desert essence shampoo', 'toss rug into washer', 'throw in water', 'put bubble bath', 'use paint sponge', 'wash knob in water', 'pour color at time', 'roll over sink', 'remove with washcloth', 'drink water throughout day', 'add splash of water', 'use mouthwash', 'use magazine rack under bathroom sink', 'use shark vacuum', 'fill with castile soap', 'put of toiletry', 'spray with hairspray', 'use rose water spray', 'fill bath', 'close balm jar', 'place towel in dryer', 'put drawer liner under sink', 'work in bathroom', 'spray in hair', 'spray in room', 'wrap dress around vacuum hose', 'shave pilling', 'spray on couch', 'cut cleaning time', 'use hose', 'wash of item', 'use dollar pack of sponge', 'drizzle on top', 'wash on cycle', 'spray paint', 'hold to water', 'add rain', 'add moisture', 'wash dog toy', 'put piece of bath balm', 'spread bacteria onto face', 'set irrigation in fall', 'cut drying time', 'add water with plant food', 'use potty']\n",
      "\n",
      "Cluster  34\n",
      "['add to bowl', 'add ingredient', 'cook rice', 'use recipe', 'add cup of quinoa', 'rinse lentil', 'rinse bean', 'add cup of rice', 'use ingredient', 'add to mix', 'add to mixture', 'add yeast', 'use corn', 'use fork', 'mix into batter', 'pour of batter', 'mix in bowl', 'mix with hand', 'use rice', 'stir cereal', 'put in drawer', 'pour into bowl', 'combine cup water cornstarch in bowl', 'use hand mixer', 'put rice', 'put recipe in description box', 'mix with fork', 'add scoop', 'open drawer', 'add into yolk', 'pour cup of corn starch', 'rinse bowl', 'put stuff in cupboard', 'add mess', 'add we reed', 'mix blood', 'cut ingredient', 'cut batter into square', 'cook grain', 'use of curry powder']\n",
      "\n",
      "Cluster  35\n",
      "['put in oven', 'put in refrigerator', 'put in freezer', 'vacuum floor', 'put in microwave', 'vacuum couch', 'use space', 'vacuum area', 'put in freezer bag', 'vacuum rug', 'put in room', 'put in closet', 'remove from oven', 'throw in closet', 'use in room', 'remove of appliance', 'bake bottle in oven', 'remove inside', 'fill fridge', 'put jar in fridge', 'empty on inside', 'use as space meal', 'put stem in freezer', 'put on inside', 'work with space', 'vacuum crumb', 'throw in fridge', 'put in garage', 'use capsule', 'remove from room', 'stuff space']\n",
      "\n",
      "Cluster  31\n",
      "['cook for minute', 'set timer for minute', 'open window', 'use in morning', 'open eye', 'open closet', 'use for day', 'stir for minute', 'load throughout day', 'set tone for day', 'open pore', 'break throughout week', 'set timer', 'break throughout day', 'bend in front', 'clean after breakfast', 'open door', 'wash in morning', 'clean for spring', 'set alarm', 'open lock', 'whip for minute', 'put in front', 'open tab', 'use for starter', 'set time', 'stick with brightening', 'blend with warmth', 'set on delay timer', 'read in day', 'use hello highlight under eye', 'use primer', 'raise awareness', 'use for afternoon', 'raise to position']\n",
      "\n",
      "Cluster  42\n",
      "['use oil', 'add oil', 'add olive oil', 'use cooking oil', 'add drop of oil', 'add tsp of cooking oil', 'use body oil', 'add oil of choice', 'add lavender oil', 'use oil paint', 'add drop of tea tree oil', 'rub with oil', 'add lemon olive oil', 'use oil on skin', 'add oil into laundry detergent', 'put oil in diffuser', 'add oil of salt', 'use castor oil', 'put oil on end']\n",
      "\n",
      "Cluster  9\n",
      "['add cinnamon', 'use avocado', 'use banana', 'add teaspoon of maple syrup', 'use coconut oil', 'add apple', 'add honey', 'use color', 'add coconut oil', 'add cup of blueberry', 'use teaspoon', 'add sugar', 'use fruit', 'add sweetener', 'add carrot', 'use coconut sugar', 'use avocado oil', 'paint pumpkin', 'add teaspoon of chia seed', 'eat calorie', 'add banana to blender', 'eat fruit', 'eat carb', 'add rosemary', 'add coconut milk', 'use walnut', 'stick orange into muffin tin', 'put sugar', 'brew chamomile tea', 'put nut', 'add calorie', 'add avocado in salad', 'add cup of mango', 'add teaspoon of baking powder', 'add cranberry', 'use applesauce', 'chop apple', 'mix color', 'add coconut amino', 'use retinol', 'add quarter teaspoon of cinnamon', 'use syrup', 'punch hole', 'chop artichoke heart', 'add carb', 'add teaspoon of cacao powder', 'use pumpkin seed', 'paint gold', 'punch circle', 'add sweetness', 'chop ingredient', 'add pecan nut', 'use agave', 'add can of enchilada sauce', 'add cup of pineapple', 'add blueberry into baking dish', 'use half of avocado', 'add witch hazel', 'add pop of color', 'put watermelon on top', 'use jalapeno', 'add bay leave', 'add teaspoon of mustard powder', 'use jojoba oil', 'use nutribullet', 'add honey to buffalo', 'add cup of pea', 'use tablespoon of acai powder', 'use coconut sugar honey maple syrup', 'add coconut flake', 'add granny smith apple', 'bake pumpkin pie for minute', 'add sprinkle of hemp seed', 'chop into chunk', 'add coloring', 'chew gum', 'add roll cashew nut', 'drink kombucha', 'use gorilla glue', 'add teaspoon of dill', 'add accent to collage', 'throw fruit', 'add plum', 'fill banana with water', 'put banana ice cube', 'put chipotle in adobo', 'add eighth of teaspoon', 'use teabag', 'add agentic', 'add sweetener to bowl', 'use as transition color', 'use monkey hook', 'drizzle tablespoon of miso sesame dressing', 'add beeswax', 'inject with hormone', 'chop into bite size piece', 'chop quarter of avocado', 'stick with black', 'add ghee to pan', 'use banana protein granola', 'raise under mistletoe', 'add black', 'use walnut scrubber from collaborative', 'use circle brush from girlf collaborative', 'rip radicchio', 'add cup of cherry', 'put glucose', 'eat blueberry needham', 'drizzle caramel sauce', 'use ounce for color', 'add bay leaf', 'eat pumpkin seed salmon', 'roll pistachio nut piece', 'chop into lump', 'use for year carbon black']\n",
      "\n",
      "Cluster  27\n",
      "['add garlic', 'use tablespoon', 'add fat', 'add bit', 'pack of layer', 'add of cabbage', 'add to sandwich', 'pay attention', 'add liquid', 'add gelatin', 'add thyme', 'add tablespoon of water', 'add feather', 'add packet', 'add of nutrient', 'add mayonnaise', 'use bon ami', 'cut lace to inch', 'add layer', 'put in place', 'cut to inch', 'add embellishment', 'add touch', 'add step', 'add material', 'add purple into mixture', 'sew stitch', 'add picture', 'add to post', 'add cost', 'add detail', 'add kick', 'sew patch', 'add kappa', 'add texture', 'add blue', 'use bulb', 'add volume', 'rub around stomach', 'add mirepoix', 'put in caption', 'add tablespoon of glycerin', 'add hill', 'add inch', 'add patch', 'add accessory', 'put on abdomen', 'add millet', 'add to thumbnail', 'add spin', 'add tablespoon of vodka', 'add pump', 'draw hair in beginning', 'add bass']\n",
      "\n",
      "Cluster  41\n",
      "['add salt', 'add vinegar', 'add sea salt', 'polish with glass', 'drink glass of water', 'use bottle', 'use glass', 'use glass container', 'add juice', 'add tablespoon of apple cider vinegar', 'rub stain', 'use e cloth glass', 'put perfume', 'put dryer sheet in glass jar', 'clean with vinegar', 'add rest of orange juice', 'use glass jar for makeup brush storage', 'drink in background', 'fill spray bottle with water', 'put in spray bottle', 'use tangle brush', 'use bleach', 'use spray', 'put glass nightstand organizer', 'drink soda', 'remove stain', 'add salt to water', 'add tablespoon of balsamic vinegar', 'work eraser on deodorant stain', 'use avvocato', 'rub finger', 'clean stain', 'drink alcohol', 'dab stain', 'drink caffeine', 'use pure of extract', 'drink decaf', 'use glass per day', 'use rubbing alcohol', 'use bristle ii', 'fill with treat jewelry nail polish', 'drink on way', 'put on blemish', 'drink rooibo', 'use brush for nose', 'brush solution into seat belt', 'put saliva sample', 'use uvc ray']\n",
      "\n",
      "Cluster  11\n",
      "['wear makeup', 'brush tooth', 'use brush', 'use mascara', 'brush hair', 'use towel', 'fill brow', 'clean mirror', 'use concealer', 'use moisturizer', 'use paper towel', 'use eye cream', 'clean makeup brush', 'put on eyelid', 'put on skin', 'wear lash', 'wear sunscreen', 'wash makeup brush', 'massage into skin', 'use broom', 'put sunscreen on face', 'put on face', 'use mask', 'use blush', 'use eyeliner', 'use steam mop', 'use cream', 'use on face', 'curl eyelash', 'use scrub', 'use eyeshadow brush', 'fill eyebrow', 'clean toothbrush', 'brush in motion', 'use razor', 'use cosmetic concealer', 'put cream on top', 'brush brow', 'put on surface', 'use shave cream', 'remove skin', 'use face mask', 'rinse hair', 'pull skin', 'use steam', 'use mirror', 'use purpose spray', 'kill bird with stone', 'use type of shower curtain hook', 'wear makeup to school', 'use baby spa', 'rinse back of tooth', 'fold cling cat', 'use coat', 'use cosmetic', 'spray edge of wonton wrapper', 'use charcoal scrub', 'use brow gel', 'use eye shadow', 'work in beauty industry', 'use contour brush', 'put eyeshadow palette in door place', 'fill surface spray with concentrate', 'remove residue on towel', 'use elf eyebrow kit', 'use eyeshadow brush from body shop', 'splash water on face', 'use macadamia healing oil treatment in hair', 'use wipe on eye', 'rinse face', 'use susan', 'blow coat', 'use costume mask', 'use chemical', 'wear lash extension', 'pack makeup bag with', 'work for skin', 'rub under eye', 'use cling wrap', 'use preset', 'blend shadow', 'use viewfinder as mirror', 'use soapstone for depth', 'splash face', 'set face', 'eat for health', 'spray granite sealer onto', 'use in spa', 'work with doctor', 'stick to surface', 'put romaine', 'use for meditation', 'trim end of toothpick', 'brush during pregnancy', 'wear mosquito band flea collar on wrist', 'write in gratitude journal', 'use for massage', 'photograph for brow', 'write health use', 'put eye cream under neck', 'use for treatment', 'prepare uterus for childbirth', 'put towel onto face', 'lay towel']\n",
      "\n",
      "Cluster  24\n",
      "['cook on stove', 'add potato', 'add chicken', 'use butter', 'add to pan', 'cook chicken', 'add peanut butter', 'add to pot', 'cook on side', 'add onto baking dish', 'chop rotisserie chicken', 'use nut butter', 'use food processor', 'put on baking sheet', 'cook in pot', 'use chicken broth', 'add pancake to bowl', 'use in kitchen', 'stack pan', 'chop potato', 'add chili powder', 'add to soup', 'cook with kid', 'add to cooker', 'cook in pan', 'bake potato in oven', 'put on stove', 'add tablespoon of jerk seasoning', 'put in crock pot', 'add brussel sprout to frying pan', 'add broth', 'stir fry', 'use pound of chicken', 'add beef', 'use dish brush', 'add kitchen towel', 'work at restaurant', 'put in skillet', 'bake in kitchen', 'add chili flake', 'grill chicken with herb mix', 'add barbecue', 'stick baking sheet in refrigerator', 'add muffin to oven', 'work in kitchen', 'stick eye in kitchen', 'use for cooking', 'combine cup of butter', 'add gram of chicken breast', 'mix flavor of sauerkraut', 'bake at degree', 'work for body butter', 'cover of toast', 'chop food processor by hand', 'add to roasting pan', 'cook on store']\n",
      "\n",
      "Cluster  7\n",
      "['use almond milk', 'add cup of oats', 'add egg', 'use purpose flour', 'put in smoothie', 'use chocolate', 'cook egg', 'use chocolate chip', 'use almond butter', 'add cheese', 'add ice cube', 'add cocoa powder', 'use tortilla', 'use foundation', 'mix with cookie dough', 'boil egg', 'add ice', 'use almond', 'add cup of popcorn kernel', 'cut top of oatmeal container', 'use cookie cutter', 'set chocolate mold', 'use egg white', 'use nut milk bag', 'work sugar cookie', 'add cup of coleslaw mix', 'blend ice cube', 'put cookie onto sheet', 'eat dairy', 'add cube', 'combine oats flax seed meal', 'close quesadilla', 'add toffee topping on top', 'stick pyrex measuring cup', 'use gram of cocoa paste', 'use cream cheese', 'use cookie sheet as magnet board medicine cup tea light', 'add family to smoothie', 'use as base', 'mix with foundation drop', 'add oat flour', 'use wheat flour', 'add date paste to bowl', 'add of nacho cheese', 'use ice cream', 'put into waffle', 'use foundation brush', 'put coca cola', 'eat chocolate', 'put on con round', 'use brie cheese', 'use cheesecloth', 'use board', 'freeze dough', 'put maca powder in smoothie', 'add chocolate chia pudding to bowl', 'use packet as egg replacement', 'use piece of particle board', 'use funkin', 'add cup of edamame', 'stuff in eggplant', 'separate egg white', 'add popcorn goody', 'add feta cheese']\n",
      "\n",
      "Cluster  39\n",
      "['add tomato', 'cook pasta', 'use cup of cherry tomato', 'slice zucchini', 'use salsa', 'put on taco', 'use for pizza', 'add sausage', 'use rice pasta', 'add cup of baby tomato', 'add pasta into boiling water', 'add teriyaki sauce', 'boil pasta', 'cut through tinfoil', 'add sriracha', 'add pesto on top', 'use in burrito bowl', 'add tablespoon of tahini', 'add tumeric', 'cover tomato with spinach', 'trim tassel', 'add frittata mix', 'wear t shirt', 'add of tamari', 'add dash', 'wear turtleneck', 'bake with lasagna', 'place into tote', 'add cup of ketchup']\n",
      "\n",
      "Cluster  18\n",
      "['load dishwasher', 'load dishwasher at night', 'put laundry', 'put into washing machine', 'use laundry basket', 'use laundry detergent', 'empty dishwasher', 'put payment', 'load dish', 'pay loan', 'pay money', 'pay for delivery', 'pay rent', 'pay dollar', 'put in mesh laundry bag', 'pay in cash', 'pay airline price for food', 'pay thousand of dollar shipping', 'pay for week rent', 'pay for finance']\n",
      "\n",
      "Cluster  10\n",
      "['add onion', 'chop onion', 'add flavor', 'add pepper', 'add bean', 'add vegetable', 'add sauce', 'chop bell pepper', 'add handful of baby spinach', 'add veggie', 'add broccoli', 'put flower', 'chop veggie', 'add spice', 'cook onion', 'use herb', 'add cilantro', 'cook vegetable', 'eat vegetable', 'plant seed', 'stir saucepan', 'use basil', 'use peppermint', 'use parsley', 'use sunflower seed', 'add spinach', 'add teaspoon of onion powder', 'add of cayenne pepper', 'sprinkle bit into pot', 'put plant', 'cook onion in pepper', 'add sage', 'cut petal piece', 'mix with compost', 'add seasoning', 'trim flower plant', 'mow lawn', 'add to taste', 'cook vegetable with pepper', 'mix sprinkle on top', 'sprinkle on top', 'use ranch for salad', 'fill with soil', 'add vegetable to baking tray', 'plant on top', 'use vegetable broth', 'add scent into room', 'use pinto bean', 'add scent', 'add pepper flake', 'add stevia', 'flick dirt', 'pour dressing into cup', 'add bean to frying pan', 'use veggie burger', 'pull flower', 'catch seed between finger', 'use potting soil', 'plant herb', 'put garden bed', 'put in root', 'use ingredient in primo garden', 'stir side for zing', 'add vegan', 'put clove', 'grind seed in blender', 'throw handful of baby spinach', 'work in garden', 'catch firefly in jar', 'put ranch', 'put sprig from tree clove']\n",
      "\n",
      "Cluster  23\n",
      "['put lid', 'use milk', 'use blender', 'use vanilla extract', 'use yogurt', 'put in container', 'use baking soda', 'use soy sauce', 'use mason jar', 'use hummus', 'use coconut yogurt', 'pour into mold', 'use vanilla powder', 'blend in blender', 'cover jar with lid', 'pour into container', 'use dairy yogurt', 'use clay', 'use of candy', 'use spatula', 'put rice milk', 'add cumin', 'use serum', 'use mrs baking soda cream cleaner', 'mix in container', 'use mrs meyer', 'use toner', 'pour milk', 'use miter saw', 'use mug', 'cover pot with lid', 'use steamer', 'use foam', 'use aloe vera', 'use lint roller', 'add mint', 'add arugula', 'use silicone mat', 'use molasse', 'use soy milk', 'use head', 'add turmeric', 'use vanilla protein powder from company', 'put marinara sauce', 'use tile', 'use mineral', 'break habit', 'use squeegee', 'use silicone mold', 'use mortar', 'use ton', 'use microfiber cloth', 'use basmati rice', 'use mineral oil', 'pull lid', 'use lacinato', 'use denture tablet', 'shake head', 'use mitt', 'put membrane on valve', 'put serum throughout hair', 'use liniment', 'shake bag', 'pour marble', 'use jaw', 'use magnet', 'set spending habit', 'use habit', 'use hand juicer', 'put into shake', 'use drop of frankincense', 'use water flosser', 'stack mug', 'use for condiment', 'remove color from mold', 'use microbead', 'use slider disc', 'use dermablend powder', 'use cacao', 'use blend', 'use tablet', 'mix maracuja']\n",
      "\n",
      "Cluster  16\n",
      "['use cloth', 'use eat cloth', 'put sheet', 'fold corner', 'dust surface', 'use cotton pad', 'fold in half', 'dust fixture', 'fill area', 'add filling', 'cut of pocket', 'put basket', 'use fabric glue', 'stamp corner of cotton napkin', 'use blanket', 'cover logo', 'collect dust', 'add page', 'dust blind', 'use fabric softener', 'fold comforter', 'fill space', 'cover seam', 'catch guy', 'cut flannel', 'use ii cloth', 'put blanket in basket', 'fold fabric paper fan', 'put cover', 'fold quilt', 'add inside duvet cover', 'use clothing', 'work dust', 'cover area', 'fill wall', 'put throw blanket', 'fold from bottom', 'add pleat fabric', 'use for linen', 'use pad', 'catch from uni', 'cover redness', 'put mulch on top', 'use fan brush']\n",
      "\n",
      "Cluster  2\n",
      "['put on top', 'light candle', 'add topping', 'burn hand', 'use scissor', 'burn calorie', 'add on top', 'raise over head', 'add boiling water', 'put music', 'use point', 'use shade', 'use in life', 'build credit', 'put in mood', 'put energy', 'put effort', 'clear wax of candle jar', 'put into saving', 'use light', 'use as highlighter', 'put tea into station', 'cut sun in corner', 'add spring sing', 'build muscle', 'pull masterpiece', 'use benefit', 'pull pie', 'set for success', 'wear in summer', 'use scooper', 'add life to place', 'use heat', 'write star', 'burn incense', 'write song', 'add to life', 'put in middle', 'melt over boiler', 'work to guyse advantage', 'put tea light candle', 'set vibe', 'use in future', 'put in center', 'work from top', 'add dimension to eye', 'melt heart', 'add of interest', 'add to craziness', 'use location feature', 'melt at room temperature', 'add height', 'attach top', 'put pressure', 'set camera', 'use scrunchie', 'put heart', 'snap at point', 'draw motive', 'use electricity', 'whip favorite', 'add length', 'beat on top', 'add to good', 'put remote', 'use serenity', 'add of personality', 'put life in danger', 'use help', 'push reward', 'put beam', 'sing kid part', 'draw to activity', 'put type of emotion', 'add of favorite', 'snap into grid formation', 'light planet', 'use effect for background music', 'put of vibe', 'put temperature', 'type smile', 'braid beach wave for part', 'put electronic', 'put success adiz of expense', 'put heater on', 'build confidence', 'ride wave', 'put station', 'kiss in moonlight', 'add depth', 'light fire', 'put into boiler']\n",
      "\n",
      "Cluster  20\n",
      "['massage kale', 'eat salad', 'add to salad', 'use bread', 'use berry', 'use bacon', 'boil water', 'chop cucumber', 'put cauliflower', 'chop romaine lettuce', 'roast squash', 'squash beetroot for dinner meal', 'use grain rye bread', 'throw stuff', 'throw hat', 'use brown', 'toast slice', 'boil for minute', 'hold ball', 'roast asparagus', 'chop lettuce', 'squish in hand', 'mix shallot', 'use on basis', 'put matcha', 'throw in bag', 'roll into ball', 'bore guy', 'use hat play', 'use in game', 'throw time', 'use bread without sugar', 'use green chard', 'use t ball stand', 'throw party', 'throw couple of tennis ball', 'bore with chopping', 'use banquette', 'use brad', 'use chive', 'throw ingredient']\n",
      "\n",
      "Cluster  33\n",
      "['clean toilet', 'clean sink', 'clean bathtub', 'clean house', 'clean kitchen', 'clean floor', 'clean area', 'clean countertop', 'clean space', 'clean room', 'clean steel appliance', 'clean dish', 'clean fridge', 'clean window', 'clean baseboard', 'clean car', 'clean mattress', 'clean playroom', 'clean table', 'clean wall', 'clean dishwashing station', 'clean in future', 'clean mess', 'clean purpose cloth', 'clear space', 'clean vacuum', 'clean desk', 'clean roof', 'clean shelf', 'clean vent around house', 'clean garbage disposal', 'clean cutting board', 'clean during weekend', 'clean toy', 'clean dice', 'clean of seat', 'clear clutter', 'clean bacteria', 'clean pot', 'clean lego', 'clean food from container', 'clean grout', 'put clutter', 'clean mess for dell utri diy', 'clean chicken coop', 'clean screen']\n",
      "\n",
      "Cluster  13\n",
      "['use mushroom', 'use product', 'use strawberry', 'use method', 'use for time', 'use can', 'use rag', 'use label maker', 'use planner', 'use hook', 'use amount', 'catch breath', 'blend into crease', 'use leave', 'use solution', 'use code', 'break bank', 'use of gadget', 'use guy', 'use in description box', 'use raspberry', 'use part', 'use airfryer', 'use in way', 'drive traffic to people', 'use for while', 'cut excess', 'use leftover', 'break surface of water', 'throw hundred of residue', 'connect of medium account', 'use rose', 'use crop', 'use rack', 'use combination', 'use season', 'use brand', 'blow mind', 'read nutrition label', 'put disclaimer', 'massage material', 'use cup of raspberry', 'use section', 'use command hook', 'use as guideline', 'use press', 'spread to people', 'put measurement in description', 'use produce', 'use platform', 'use air', 'use tool', 'use for portion', 'use callus remover', 'use type', 'type word', 'use microphone', 'use jam', 'use trick', 'use truth', 'use hack', 'use of creativity', 'use as puree', 'remove of air', 'catch on email', 'separate food particle from surface', 'use technique', 'use word', 'use on occasion', 'use clamp', 'place vote', 'use guard', 'break of category', 'spread message', 'use wire', 'break into category', 'use variety', 'use organizer', 'throw into giveaway', 'use alternative', 'cut excess for ruffle', 'use earth balance', 'use ewg org', 'draw foreigner', 'connect with nature', 'separate space', 'use range selector tool', 'raise off floor', 'use people', 'use raisin', 'arrange with blinker', 'use age rewind', 'use border', 'spread air tornado', 'add raspberry to rest', 'break from life', 'use of choice', 'use at moment', 'use globe']\n",
      "\n",
      "Cluster  3\n",
      "['eat food', 'eat in day', 'eat breakfast', 'put dish', 'use knife', 'pack snack', 'pack lunch', 'eat dinner', 'eat amount', 'add to meal', 'add to tray', 'eat tuna', 'eat meat', 'add decor piece', 'put skincare product', 'eat lunch', 'add food coloring', 'eat in morning', 'carve lantern face', 'eat at table', 'eat diet', 'eat on go', 'add leave to meal', 'put food', 'put salmon on top', 'eat napkin', 'eat fish', 'prepare meal', 'eat chip', 'cook dinner', 'eat calorie in day', 'scrape of food', 'set table', 'put steak knife', 'place of treat', 'combine food group in effort', 'add to food diary', 'use q tip', 'cook dish', 'chew food', 'eat family', 'eat with skin', 'use serving', 'put on bedside table', 'eat at home', 'use tip', 'fill tray', 'use as centerpiece', 'add table runner', 'drizzle knife for treat', 'put dimmer', 'use for table scape', 'eat kid', 'put silverware', 'add food dye', 'eat hack', 'use serving tray with depth', 'use skincare fridge', 'carve center', 'paint side table color', 'put decoration', 'use in cutlery drawer']\n",
      "\n",
      "Cluster  30\n",
      "['add of cup', 'add cup of water', 'use cup', 'drink tea', 'use coffee', 'drink coffee', 'put cup', 'add tea', 'put in coffee grinder', 'add cup water with ice cube', 'clean coffee maker in way', 'add tea to water', 'open bag of coffee', 'clean off coffee table', 'break with cup', 'use coffee pod', 'hold water in coffee maker', 'drink coffee into cocoa bar', 'put on coffee table']\n",
      "\n",
      "Cluster  12\n",
      "['use lemon', 'add lemon juice', 'use chickpea', 'use glue', 'use lime', 'paint nail', 'use hydrogen peroxide', 'squeeze lemon juice', 'melt wax', 'blow balloon', 'add glue', 'use for lip', 'cut pool noodle around container', 'put orange peel', 'use nail file', 'drill screw into anchor', 'use bronzer', 'cut foot of pantyhose', 'use exfoliant', 'dice stalk of celery', 'use vegetable peeler', 'put popsicle stick', 'use lip liner', 'use from kilogram', 'use for lavender creme brulee', 'use anchor', 'use vitamin c serum', 'put lipstick', 'use lip balm', 'attach baby saw with glue', 'use end s lemon spray', 'use rim liner', 'use sharpie', 'add acorn', 'put elastic', 'use xylitol', 'use antioxidant serum in daytime', 'wrap wax around pencil', 'put in slime', 'add eucalyptus', 'pull marinade over skewer stick', 'use acid', 'use stealer liquid lipstick', 'put collagen peptide in half', 'use stick', 'use ostia pencil', 'use as dip', 'use bec cosmetic champagne pop', 'use propane', 'pose problem', 'add matte color in crease', 'slather lotion on foot', 'use emoji in top', 'put oil on wool ball', 'use loofah', 'use vitamin', 'paint toe color', 'use aluminum sheet on clothe pin', 'use buck', 'put tack for tripod', 'hold sink caddy', 'use dyson', 'use epsom salt', 'use vitamin c peel pad', 'blend with nail bed', 'use orgasm blush on apple', 'use gloss', 'pack with antioxidant', 'use on pulse point', 'brush with spoolie side', 'cut pickle', 'break cellulite', 'knock tripod', 'put bit vaseline on pulse point', 'use hoola bronzer', 'add omega to dressing', 'add bronze pole', 'use lg styler', 'use paleo wrap', 'put aquaphor on lip', 'paint mantle', 'use wonder noodle', 'put in cellophane']\n",
      "\n",
      "Cluster  32\n",
      "['put hair', 'wear hair', 'curl hair', 'put hair into ponytail', 'dye hair', 'use hairdryer', 'condition hair', 'pull hair', 'massage into scalp', 'cut hair', 'tease end of hair', 'put hair in bun', 'put in bun', 'put in side braid', 'hold hair', 'wrap tail around middle', 'add trim', 'tease hair at crown', 'cut mustache', 'dab hair', 'put hairdryer to boy']\n",
      "\n",
      "Cluster  22\n",
      "['use bag', 'add velcro', 'put trash bag', 'use box', 'put in bin', 'put in ziploc bag', 'throw in trash', 'add to lunchbox container', 'pack suitcase', 'put card', 'wear legging', 'open bag', 'place paint inside gallon size ziploc bag tape', 'put grocery', 'pack bag', 'draw card', 'put in tea bag', 'put in purse', 'stick into bag', 'remove trash', 'combine gallon bag', 'put into folder', 'empty trash', 'use cardstock', 'put stem into bag', 'wear handbag', 'put rubbish into shopping bag', 'write ice on bag', 'use backpack', 'wear cardigan', 'put mail', 'put of mom', 'put bag in skillet', 'use as stamp', 'stock on perishable', 'add item in cart', 'use file holder', 'use on drugstore', 'put into shopping cart', 'put junk mail', 'load donation item into box', 'freeze in baggie', 'use box with book', 'drop mom at airport', 'put wicker bin', 'put charger in backpack']\n",
      "\n",
      "Cluster  14\n",
      "['cut fabric', 'cut into piece', 'cut in half', 'cut into strip', 'cut picture', 'cut to size', 'use half', 'cut into slice', 'add half of cup', 'cut marshmallow in half', 'cut recipe in half', 'use on cuticle', 'cut piece of cardboard', 'use command strip', 'cut door', 'cut top', 'cut neater to size', 'stick half', 'cut part', 'cut rectangle', 'cut into square', 'stick paper onto cutout', 'cut side', 'cut box', 'cut inch width of tubing', 'cut ribbon', 'cut of circle', 'cut of seam', 'cut denim', 'cut slit', 'cut diaper', 'cut through loop', 'cut shape', 'cut flag', 'cut time', 'put knob', 'steal version', 'cut cleaning in half', 'steal of kid', 'cut strand', 'cut duct tape wipe scissor with baby']\n",
      "\n",
      "Cluster  19\n",
      "['put clothe', 'clear counter', 'hold for second', 'fold jean', 'use iron', 'wear jean', 'attach to side', 'iron clothe', 'use over body', 'use hand', 'put clothe in room', 'put on cheekbone', 'stick to noodle', 'use spray on countertop', 'stick to bottom', 'place crossbar in middle', 'put over body', 'remove rubber band', 'cut into bar shape', 'stick on countertop', 'use arm', 'stick at edge', 'add shrimp', 'hold dumbbell in hand', 'close jump ring', 'add shell', 'put skeleton in minute', 'put hand', 'shake hand', 'put rubber band around bottom', 'work in tick tock', 'put on counter', 'connect to breast shield', 'use body lotion', 'place over rack rod', 'stick to plan', 'clip to side', 'put in vase', 'put on elbow', 'stick to counter', 'put on brow bone', 'wear clothe', 'use bike lock', 'clip strap', 'put on hand', 'add hug', 'attach handle', 'use binder clip', 'hurt foot', 'hold to arm', 'use attachment', 'stick to rule', 'scratch counter', 'iron hair', 'add jasmine', 'use business card', 'fight inflammation', 'put under belt', 'add obstacle tile hoop', 'fight radical', 'massage heck', 'fight with being', 'add barrier', 'hold side plank for second', 'attach safety pin to side', 'stick in ground', 'put math problem', 'add bead', 'hold shape', 'put bit on chest', 'mash in verse', 'hold pound', 'roast stable for couple', 'put jingle bell', 'put time towards negativity', 'use echo shield number', 'stick chest', 'drink hell', 'put into visco', 'fight bloat', 'add peninsula', 'add seashell', 'attach bumper', 'use on chest area', 'put on cuff', 'fight cold', 'shred with hand', 'put clock hand', 'ride bike', 'work with hollister', 'hold for table', 'put in jumper', 'put vase with hydrangea']\n",
      "\n",
      "Cluster  4\n",
      "['add green', 'use glove', 'use tofu', 'use finger', 'add teaspoon of macadamia nut oil', 'put granola', 'put toy', 'use turkey', 'drill hole', 'squeeze butt', 'use straw', 'drink wine', 'put boy in toy', 'push finger', 'cover with saran wrap', 'use oregano', 'squeeze muscle', 'scrape side', 'put play doh', 'push gel', 'use wood filler', 'cut into wedge', 'use skewer', 'put hole in wall', 'prepare gram', 'add green powder', 'use diffuser', 'use googan', 'fill with sand', 'drill hole with bit', 'squeeze glute muscle', 'split stick into hole', 'cut hole', 'use grape', 'blend down neck', 'use tennis crib for handle', 'wear goggle', 'push neck', 'push bubble', 'use piece of felt', 'cube phoo', 'snip hole', 'use fireplace', 'wear sunglass', 'use dr', 'use whisk', 'poke hole', 'use guacamole', 'use legume', 'put beach toy', 'add spirulina powder', 'use head for dandruff', 'use syringe', 'use type of cracker', 'put as filler', 'cover with sequin', 'use falsie', 'use macadamia', 'use palm', 'use keyboard shortcut', 'use intuition', 'cut hole in metal', 'use scraper', 'use ghd', 'use felt', 'use calendula', 'light toy', 'sprain of thumb', 'use detangler', 'use of gas', 'use horse', 'use kit', 'use throne', 'spritz face', 'use divider', 'use zinc', 'draw orbit on foam board', 'use bra divider', 'push limit', 'use pushpin']\n",
      "\n",
      "Cluster  29\n",
      "['put shoe', 'wear sock', 'shave leg', 'wrap ankle weight around leg', 'put foot', 'fill tube sock with sea salt', 'wear bra', 'wear boot', 'wear slipper', 'wear short', 'put underwear', 'squeeze ball between foot', 'clean shoe', 'raise thigh', 'stick shoe organizer to side', 'wear to school', 'throw workout pant', 'burn during workout', 'wear of step tracker workout', 'push body through heel', 'break foot', 'use foot cream', 'wear heel', 'skate on leg', 'wear sneaker', 'wear to gym', 'work sweat', 'wear shoe in house', 'use for foot soak', 'wear pair of gym sock legging', 'rub dream cream over leg', 'wear pedometer']\n",
      "\n",
      "Cluster  6\n",
      "['mop floor', 'use spoon', 'sweep floor', 'remove makeup', 'put at bottom', 'add drop', 'toss on stove', 'remove liner', 'cut stem', 'toss pan', 'add drop of vitamin e', 'add design along bottom', 'remove stem', 'mop rest of hardwood floor', 'remove from tray', 'remove piece', 'use eye drop', 'toss system', 'remove of water', 'remove bowl from', 'trim excess off back', 'throw on floor', 'drain from liquid', 'throw clothe on floor', 'knead spoon around bowl', 'remove label', 'wear off shoulder', 'remove with spoon', 'remove of residue', 'drop item', 'toss in shed', 'remove paint', 'remove clothing', 'eat from ground', 'remove oil on face', 'drop food', 'attach piece to bottom', 'put rock at bottom', 'remove stalk', 'drop towards floor', 'toss in trunk', 'remove soffit', 'cut bottom', 'toss into stir', 'eat for weight loss', 'remove crayon from surface']\n",
      "\n",
      "Cluster  17\n",
      "['read book', 'put book', 'write list', 'write letter', 'read review', 'write stuff', 'write assignment', 'write note', 'write message', 'read instruction', 'write word', 'write schedule', 'put into document', 'read magazine', 'pull textbook', 'write information for essay', 'write in diary', 'study note', 'put note on fridge', 'write on board', 'write note by hand', 'write task', 'read direction', 'write plan', 'write thought', 'write stuff into agenda', 'put paper into order', 'read at funeral', 'read book on kindle', 'read book around time', 'write blog post']\n",
      "\n",
      "Cluster  25\n",
      "['add protein', 'use powder', 'use paint', 'use protein powder', 'paint coat', 'use in pantry', 'use palette', 'use bonhomie powder', 'add to plate', 'hold watercolor paint', 'paint on canvas', 'paint wall', 'place artwork', 'put pant', 'use plier', 'paint opinion', 'stick piece of painter tape', 'wear pant', 'pile on top', 'use yellow', 'paint with coin', 'fill with puff', 'mix powder with water', 'put spoon onto pimple', 'draw face on watercolor paint', 'put pajama', 'put in hamper', 'paint color', 'add of paprika', 'eat protein', 'pump lash', 'use acrylic paint', 'use air popper', 'use chapstick', 'use spray paint']\n",
      "\n",
      "Cluster  28\n",
      "['sleep on side', 'put pillow', 'use pillow', 'put on bed', 'use for rest', 'sleep through night', 'hold on couch', 'sleep in bed', 'fix bed', 'put boy in bedroom', 'put in bedroom', 'slip corner of pillow', 'sprinkle on mattress', 'eat for rest', 'fix bunk bed', 'sleep in boy room', 'sleep on satin pillowcase', 'stick in bed', 'chop for time', 'squeeze bed', 'put in crib', 'sleep in morning', 'arrange pillow on floor', 'put sheet on bed', 'use before bed']\n",
      "\n",
      "Cluster  8\n",
      "['use for year', 'use at night', 'freeze for hour', 'use dryer', 'set for hour', 'cut end', 'snip end', 'throw in dryer', 'use for week', 'cook for hour', 'write check', 'add at end', 'close door', 'write zero', 'use in fall', 'shower at night', 'pull end', 'eat throughout week', 'read at night', 'put dryer ball', 'work hour', 'stretch money', 'pack with fiber', 'close bag', 'drink throughout week', 'shower in hour', 'pull fall decor', 'eat fiber in evening', 'close book', 'cry for hour', 'put handout', 'pull nighter', 'pull dress on weekend', 'use end of spray', 'use in past', 'wear in fall', 'close window', 'hold over year', 'wind to end', 'read charity', 'place side at degree angle', 'set legend at note', 'sleep for hour', 'work without recipe', 'work for hour', 'use drywall anchor', 'wear of night', 'put in degree']\n",
      "\n",
      "Cluster  15\n",
      "['add ginger', 'add glitter', 'put piece of wood', 'use washi tape', 'use twine', 'wrap present', 'add tempeh', 'wrap gift', 'use tape', 'put pine cone', 'add curl', 'wrap edge', 'use ring finger', 'put medjool date', 'cut shape of tree', 'put necklace', 'draw line', 'cut along line', 'wrap in wrapping paper', 'rip couple', 'roll diy decoration for snow cover candle', 'twist of section', 'put on tree', 'use wand', 'attach charm to chain', 'add text', 'use extension cord', 'use connector', 'use duct tape', 'put wreath', 'add paper confetti for texture shape', 'cut tip of glow stick', 'prune tree', 'put jewelry', 'curl piece', 'wrap earbud', 'blow loop zip tie around stroller wheel', 'add of holiday scent', 'use tweezer', 'hold to ribbon', 'cut face of snow globe', 'use hem', 'put cord', 'add pretzel', 'wrap jewelry wire around stem', 'clip wood with clothespin', 'put bow from dollar store', 'use packing tape', 'use dowel', 'use of gift bag', 'paint outside of dollar tree planter', 'place wick', 'hold wood in place', 'add soy ginger sauce', 'wrap string', 'use christmas tree', 'connect girl with line', 'use inch wand', 'put tape cross', 'sketch castle as flower', 'add snowflake sticker for touch', 'wrap box', 'cut jewelry box in way', 'fix cable', 'put earring', 'add fairy light']\n",
      "\n",
      "Cluster  26\n",
      "['put item', 'roll dough', 'put stuff', 'eat of roll', 'add storage', 'work stroller', 'put on side', 'put shelf', 'roll of note', 'put piece', 'put bit', 'lay layer', 'put cushion', 'put dot', 'lay fabric', 'fill with succulent', 'put bow', 'put rug', 'add to list', 'put hashtag', 'put hanger', 'put fingerprint', 'put story', 'put for second', 'put white', 'put carpet', 'put seat cover', 'put in corner', 'hold stuff', 'lay on side', 'read print on tag', 'put name', 'put list', 'put quote', 'put tan', 'put in area', 'put tee', 'put chair', 'add storage height to desk', 'wear tan', 'put cap', 'tear on stroller', 'cross off list', 'put in back', 'read encyclopedia', 'put map', 'put watch', 'put oat', 'put widget', 'put side', 'put highlight', 'use as place', 'put show', 'pull headrest', 'put trade', 'put robe', 'put sign', 'set item', 'use on property', 'put in compartment', 'put suitcase in level', 'roll into log', 'use on leather area', 'put thought', 'put in slot', 'spread over place', 'pack item', 'use bullet journal method', 'put fluff', 'install shelving', 'put stud', 'ride on back', 'put in sachet', 'use around area back', 'put in package', 'write bucket list item', 'slip in place', 'paint utensil', 'use over place', 'put of memory', 'place bench', 'put of receipt', 'put number in hand corner', 'put information', 'put title']\n",
      "\n",
      "Cluster  21\n",
      "['set goal', 'add stock', 'meet people', 'place order', 'write goal', 'meet rest of friend', 'break goal into', 'pack for trip', 'set tone for home', 'stack on top', 'meet girl', 'add into trail mix type', 'add to routine', 'meet in class', 'meet strap', 'stock cutting board', 'fill browser bed', 'add self care to routine', 'put in order', 'meet with trainer', 'chase dream', 'set tone', 'set trap', 'use website', 'put vision board for', 'put handle on attempt', 'cut to chase', 'hunt with friend', 'add spider', 'put demo of background idea', 'set challenge', 'put on path', 'join team', 'stack workout', 'add to sort', 'put on internet']\n",
      "\n",
      "Cluster  5\n",
      "['work way', 'work from home', 'use around house', 'put on wall', 'use house', 'put on door', 'build desk', 'stick onto wall', 'knock cabinet', 'work in section', 'work as mousepad', 'build furniture', 'put in office', 'work on basement', 'work on side', 'throw in homeroom', 'build structure', 'build of bookshelf', 'put in house', 'attach frame to wall', 'work for while', 'lay around house', 'stick process to piece', 'work to rep', 'build house with dad', 'build barn door', 'add to homemaker life', 'connect to home device', 'work on blog', 'build house', 'paint barstool', 'work for family', 'work for college', 'attach eye to pom', 'catch on work', 'put office supply', 'work for exam', 'work from basic', 'build nightstand', 'build tv stand', 'build into powerpoint', 'use as accent wall', 'work for kid', 'work at night']\n",
      "\n",
      "Cluster  43\n",
      "['lift hip', 'pull string', 'add inch piece of pipe', 'use weight', 'lift torso', 'cook with steel', 'pull thread', 'work on steel', 'lift weight', 'pull yarn', 'hold of camping gear', 'attach animal to lid', 'pay attention to pet fold', 'attach zipper', 'use on steel appliance', 'lift leg', 'use mesh strainer', 'pull piece', 'use sheep mask from beauty supply store', 'string bead onto pipe cleaner', 'work on zip', 'pack essential for family', 'put animal', 'pull curtain', 'lift knee', 'attach pulley', 'pull on side', 'pull cousin', 'put load', 'put over strainer', 'string across fence', 'put staple in middle', 'set tent', 'pull cover', 'pull slide', 'pull flap', 'mix puppy', 'pull ball', 'put in pile']\n",
      "\n",
      "Cluster  40\n",
      "['wear on way', 'wear outfit', 'add dressing', 'wear shirt', 'wear jacket', 'wear top', 'clear dresser', 'wear hat', 'wear dress', 'wear skirt', 'wear hoodie', 'cut hole in sweater', 'wear people', 'wear halter top', 'put headband', 'put sweater', 'put dressing on bottom', 'put in wardrobe', 'wear in winter', 'wear scarf', 'wear sweatshirt', 'wear on day', 'put in fashion', 'wear sleeve', 'wear to event', 'wear for walk', 'wear under top']\n",
      "\n",
      "Cluster  36\n",
      "['put on eye', 'put phone', 'use photo', 'put under eye', 'close eye', 'read manual', 'catch eye', 'put contact', 'use app', 'use bobby pin', 'use laptop', 'hold clip', 'put phone in airplane mode', 'put movie', 'hold phone', 'write people note on ipad', 'add to app', 'read chord chart', 'add to look', 'catch on series', 'use couple of eye pin', 'use sewing machine', 'use pin', 'put on screen', 'meet with youtuber', 'set reminder on phone', 'read on phone', 'set iphone from', 'put ipad', 'put in album photo shoot', 'put on speakerphone', 'study acting', 'blend movie', 'put instagram', 'join youtube family', 'use list on phone', 'use computer']\n",
      "\n",
      "Cluster  37\n",
      "['cut into quarter', 'add quarter cup of water', 'use sticker', 'use notebook', 'use pencil', 'add date', 'use paper', 'paint with chalkboard', 'stick to plastic wrap', 'use as template', 'rip page', 'use eye pencil', 'draw picture', 'add third of cup', 'use for month', 'put pen', 'cover baby with chalkboard paint', 'use calendar', 'put in toaster', 'cut triangle', 'blend with fingertip', 'sketch calligraphy part', 'use marker', 'cut into three', 'cover with contact paper', 'stir date', 'cross calendar', 'fold tissue paper', 'wrap goodness around paper clip', 'use piece of craft paper', 'sketch saying with pencil', 'put sticker paper on notebook', 'set printer', 'put parchment paper over top', 'put notepad', 'remove ink from fingertip', 'write spot', 'write in princess daughter perspective', 'rip of newspaper', 'use weekend sticker', 'use pencil case', 'stick onto cork board', 'use transfer paper', 'use note for subject', 'set as laptop wallpaper', 'use dry erase marker on clock', 'use stencil', 'use poster board', 'draw cartoon', 'draw pattern block', 'open box from body shop advent calendar', 'put month page on left']\n",
      "\n",
      "Cluster  44\n",
      "['pack car', 'drive in car', 'pay for car', 'stick in car', 'drive to school', 'drive to gym', 'work for car', 'drive nut', 'pull into driveway', 'use tractor', 'use google drive', 'put car in truck', 'throw in car']\n",
      "\n",
      "Cluster  38\n",
      "['fold boy clothe', 'use e class', 'stick kid onto page', 'use in kid room', 'teach kid', 'use baby', 'use school', 'meet boy', 'teach responsibility', 'pack for boy', 'fold for boy', 'put in playroom', 'drop son at school', 'use around kid', 'throw at school', 'raise baby', 'put example', 'pull kid load', 'hold toddler']\n",
      "\n"
     ]
    }
   ],
   "source": [
    "from sklearn.cluster import AgglomerativeClustering\n",
    "import numpy as np\n",
    "\n",
    "\n",
    "#Normalize the embeddings to unit length\n",
    "sentence_embeddings = sentence_embeddings /  np.linalg.norm(sentence_embeddings, axis=1, keepdims=True)\n",
    "\n",
    "# clustering_model = AgglomerativeClustering(n_clusters=None, distance_threshold=0.5) #, affinity='cosine', linkage='average', distance_threshold=0.4)\n",
    "clustering_model = AgglomerativeClustering(n_clusters=None, distance_threshold=3)\n",
    "\n",
    "clustering_model.fit(sentence_embeddings)\n",
    "cluster_assignment = clustering_model.labels_\n",
    "\n",
    "clustered_sentences = {}\n",
    "for sentence_id, cluster_id in enumerate(cluster_assignment):\n",
    "    if cluster_id not in clustered_sentences:\n",
    "        clustered_sentences[cluster_id] = []\n",
    "\n",
    "    clustered_sentences[cluster_id].append(most_common_actions[sentence_id])\n",
    "\n",
    "print(len(clustered_sentences))\n",
    "for i, cluster in clustered_sentences.items():\n",
    "    print(\"Cluster \", i+1)\n",
    "    print(cluster)\n",
    "    print(\"\")"
   ]
  },
  {
   "cell_type": "code",
   "execution_count": null,
   "id": "6a5d5595",
   "metadata": {
    "pycharm": {
     "name": "#%%\n"
    }
   },
   "outputs": [],
   "source": []
  }
 ],
 "metadata": {
  "kernelspec": {
   "display_name": "Python 3 (ipykernel)",
   "language": "python",
   "name": "python3"
  },
  "language_info": {
   "codemirror_mode": {
    "name": "ipython",
    "version": 3
   },
   "file_extension": ".py",
   "mimetype": "text/x-python",
   "name": "python",
   "nbconvert_exporter": "python",
   "pygments_lexer": "ipython3",
   "version": "3.8.6"
  }
 },
 "nbformat": 4,
 "nbformat_minor": 5
}
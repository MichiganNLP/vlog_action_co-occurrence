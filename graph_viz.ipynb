{
 "cells": [
  {
   "cell_type": "code",
   "execution_count": 24,
   "id": "1bba4816",
   "metadata": {},
   "outputs": [],
   "source": [
    "from pyvis.network import Network\n",
    "net = Network('1000px', '1000px',notebook=True)\n"
   ]
  },
  {
   "cell_type": "code",
   "execution_count": 49,
   "id": "e41f30b4",
   "metadata": {},
   "outputs": [
    {
     "data": {
      "text/html": [
       "<div>\n",
       "<style scoped>\n",
       "    .dataframe tbody tr th:only-of-type {\n",
       "        vertical-align: middle;\n",
       "    }\n",
       "\n",
       "    .dataframe tbody tr th {\n",
       "        vertical-align: top;\n",
       "    }\n",
       "\n",
       "    .dataframe thead th {\n",
       "        text-align: right;\n",
       "    }\n",
       "</style>\n",
       "<table border=\"1\" class=\"dataframe\">\n",
       "  <thead>\n",
       "    <tr style=\"text-align: right;\">\n",
       "      <th></th>\n",
       "      <th>action1</th>\n",
       "      <th>action2</th>\n",
       "      <th>nb_examples</th>\n",
       "    </tr>\n",
       "  </thead>\n",
       "  <tbody>\n",
       "    <tr>\n",
       "      <th>0</th>\n",
       "      <td>wake up</td>\n",
       "      <td>work out</td>\n",
       "      <td>66</td>\n",
       "    </tr>\n",
       "    <tr>\n",
       "      <th>1</th>\n",
       "      <td>wake up</td>\n",
       "      <td>make bed</td>\n",
       "      <td>73</td>\n",
       "    </tr>\n",
       "    <tr>\n",
       "      <th>2</th>\n",
       "      <td>wake up</td>\n",
       "      <td>clean up</td>\n",
       "      <td>74</td>\n",
       "    </tr>\n",
       "    <tr>\n",
       "      <th>3</th>\n",
       "      <td>wake up</td>\n",
       "      <td>brush teeth</td>\n",
       "      <td>58</td>\n",
       "    </tr>\n",
       "    <tr>\n",
       "      <th>4</th>\n",
       "      <td>wake up</td>\n",
       "      <td>drink water</td>\n",
       "      <td>58</td>\n",
       "    </tr>\n",
       "    <tr>\n",
       "      <th>...</th>\n",
       "      <td>...</td>\n",
       "      <td>...</td>\n",
       "      <td>...</td>\n",
       "    </tr>\n",
       "    <tr>\n",
       "      <th>2966</th>\n",
       "      <td>use stila</td>\n",
       "      <td>use liner</td>\n",
       "      <td>3</td>\n",
       "    </tr>\n",
       "    <tr>\n",
       "      <th>2967</th>\n",
       "      <td>use kit</td>\n",
       "      <td>use liner</td>\n",
       "      <td>3</td>\n",
       "    </tr>\n",
       "    <tr>\n",
       "      <th>2968</th>\n",
       "      <td>use bring</td>\n",
       "      <td>brush hair</td>\n",
       "      <td>3</td>\n",
       "    </tr>\n",
       "    <tr>\n",
       "      <th>2969</th>\n",
       "      <td>use shine</td>\n",
       "      <td>brush hair</td>\n",
       "      <td>3</td>\n",
       "    </tr>\n",
       "    <tr>\n",
       "      <th>2970</th>\n",
       "      <td>brush hair</td>\n",
       "      <td>use masks</td>\n",
       "      <td>3</td>\n",
       "    </tr>\n",
       "  </tbody>\n",
       "</table>\n",
       "<p>2971 rows × 3 columns</p>\n",
       "</div>"
      ],
      "text/plain": [
       "         action1      action2  nb_examples\n",
       "0        wake up     work out           66\n",
       "1        wake up     make bed           73\n",
       "2        wake up     clean up           74\n",
       "3        wake up  brush teeth           58\n",
       "4        wake up  drink water           58\n",
       "...          ...          ...          ...\n",
       "2966   use stila    use liner            3\n",
       "2967     use kit    use liner            3\n",
       "2968   use bring   brush hair            3\n",
       "2969   use shine   brush hair            3\n",
       "2970  brush hair    use masks            3\n",
       "\n",
       "[2971 rows x 3 columns]"
      ]
     },
     "execution_count": 49,
     "metadata": {},
     "output_type": "execute_result"
    }
   ],
   "source": [
    "import json\n",
    "import ast\n",
    "\n",
    "with open('data/final_data/dict_together_actions.json') as json_file:\n",
    "    dict_together_actions = json.load(json_file)\n",
    "\n",
    "list_tuple_actions = []\n",
    "\n",
    "for key in dict_together_actions:\n",
    "    actions = ast.literal_eval(key)\n",
    "    nb_examples = len(dict_together_actions[key])\n",
    "    list_tuple_actions.append((actions[0], actions[1], nb_examples))\n",
    "# list_tuple_actions\n",
    "\n",
    "import pandas as pd\n",
    "df = pd.DataFrame(list_tuple_actions, columns =['action1', 'action2', 'nb_examples'])\n",
    "df"
   ]
  },
  {
   "cell_type": "code",
   "execution_count": 50,
   "id": "9dcb7674",
   "metadata": {
    "scrolled": false
   },
   "outputs": [
    {
     "data": {
      "text/html": [
       "\n",
       "        <iframe\n",
       "            width=\"100%\"\n",
       "            height=\"500px\"\n",
       "            src=\"nx.html\"\n",
       "            frameborder=\"0\"\n",
       "            allowfullscreen\n",
       "            \n",
       "        ></iframe>\n",
       "        "
      ],
      "text/plain": [
       "<IPython.lib.display.IFrame at 0x7f146a266f40>"
      ]
     },
     "execution_count": 50,
     "metadata": {},
     "output_type": "execute_result"
    }
   ],
   "source": [
    "sources = df['action1']\n",
    "targets = df['action2']\n",
    "weights = df['nb_examples']\n",
    "\n",
    "net = Network(width='100%', bgcolor='#222222', font_color='white', notebook=True)\n",
    "\n",
    "# set the physics layout of the network\n",
    "net.barnes_hut()\n",
    "\n",
    "edge_data = zip(sources, targets, weights)\n",
    "\n",
    "for e in edge_data:\n",
    "    src = e[0]\n",
    "    dst = e[1]\n",
    "    w = e[2]\n",
    "\n",
    "    net.add_node(src, src, title=src)\n",
    "    net.add_node(dst,dst, title=dst)\n",
    "    net.add_edge(src, dst, width=1, value=w)\n",
    "    \n",
    "net.show_buttons(filter_=['physics'])\n",
    "net.show('nx.html')"
   ]
  },
  {
   "cell_type": "code",
   "execution_count": 29,
   "id": "a46e72d2",
   "metadata": {},
   "outputs": [],
   "source": []
  },
  {
   "cell_type": "code",
   "execution_count": null,
   "id": "c81e8756",
   "metadata": {},
   "outputs": [],
   "source": []
  }
 ],
 "metadata": {
  "kernelspec": {
   "display_name": "Python 3",
   "language": "python",
   "name": "python3"
  },
  "language_info": {
   "codemirror_mode": {
    "name": "ipython",
    "version": 3
   },
   "file_extension": ".py",
   "mimetype": "text/x-python",
   "name": "python",
   "nbconvert_exporter": "python",
   "pygments_lexer": "ipython3",
   "version": "3.8.6"
  }
 },
 "nbformat": 4,
 "nbformat_minor": 5
}
